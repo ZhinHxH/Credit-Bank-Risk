{
  "nbformat": 4,
  "nbformat_minor": 0,
  "metadata": {
    "colab": {
      "provenance": [],
      "collapsed_sections": [
        "9_dsojcA0wWq"
      ]
    },
    "kernelspec": {
      "name": "python3",
      "display_name": "Python 3"
    },
    "language_info": {
      "name": "python"
    }
  },
  "cells": [
    {
      "cell_type": "markdown",
      "source": [
        "#Clasificación de riesgo crediticio de los clientes para aplicaciones bancarias"
      ],
      "metadata": {
        "id": "yMXk3hIKVygv"
      }
    },
    {
      "cell_type": "markdown",
      "source": [
        "Integrantes:\n",
        "- Jonathan Gil (2166760)\n",
        "- Jhos Hurtado (2170252)\n",
        "- David Lucano (2170781)"
      ],
      "metadata": {
        "id": "31Un62q4-L2b"
      }
    },
    {
      "cell_type": "markdown",
      "source": [
        "##Instalación de dependencias"
      ],
      "metadata": {
        "id": "5wTCd4ElWBA6"
      }
    },
    {
      "cell_type": "code",
      "execution_count": null,
      "metadata": {
        "id": "hWj6BwOwS24y"
      },
      "outputs": [],
      "source": [
        "import pandas as pd\n",
        "import numpy as np\n",
        "import seaborn as sns\n",
        "import matplotlib.pyplot as plt\n",
        "from sklearn.preprocessing import MinMaxScaler\n",
        "from sklearn.preprocessing import OneHotEncoder, LabelBinarizer\n",
        "from sklearn.model_selection import train_test_split\n",
        "from sklearn.metrics import mean_squared_error, accuracy_score, confusion_matrix, classification_report, precision_score, classification_report\n",
        "from sklearn.linear_model import LogisticRegression, Ridge, Lasso\n",
        "from sklearn.tree import DecisionTreeClassifier\n",
        "from sklearn.ensemble import RandomForestClassifier\n",
        "from sklearn.tree import export_graphviz\n",
        "\n",
        "# from google.colab import drive\n",
        "# drive.mount('/content/drive')"
      ]
    },
    {
      "cell_type": "markdown",
      "source": [
        "Se carga el dataset"
      ],
      "metadata": {
        "id": "wuKDpWLZfeey"
      }
    },
    {
      "cell_type": "code",
      "source": [
        "# df=pd.read_csv(\"/content/drive/MyDrive/Dataset_Aprendizaje/data.csv\")\n",
        "df = pd.read_csv(\"https://raw.githubusercontent.com/stevenLucano/datasets/main/dataset_riesgo_crediticio.csv\")\n",
        "df.head()"
      ],
      "metadata": {
        "id": "BmO-PGcZWGxa",
        "colab": {
          "base_uri": "https://localhost:8080/",
          "height": 404
        },
        "outputId": "ee86d255-aafd-42cf-c5e7-fddb538202ab"
      },
      "execution_count": null,
      "outputs": [
        {
          "output_type": "execute_result",
          "data": {
            "text/plain": [
              "  checking_account  duration                    credit_history  \\\n",
              "0             '<0'         6  'critical/other existing credit'   \n",
              "1       '0<=X<200'        48                   'existing paid'   \n",
              "2    'no checking'        12  'critical/other existing credit'   \n",
              "3             '<0'        42                   'existing paid'   \n",
              "4             '<0'        24              'delayed previously'   \n",
              "\n",
              "        credit_purpose  amount             savings current_employ  \\\n",
              "0             radio/tv    1169  'no known savings'          '>=7'   \n",
              "1             radio/tv    5951              '<100'       '1<=X<4'   \n",
              "2            education    2096              '<100'       '4<=X<7'   \n",
              "3  furniture/equipment    7882              '<100'       '4<=X<7'   \n",
              "4            'new car'    4870              '<100'       '1<=X<4'   \n",
              "\n",
              "   disposable_income       personal_status guarantors  ...  \\\n",
              "0                  4         'male single'       none  ...   \n",
              "1                  2  'female div/dep/mar'       none  ...   \n",
              "2                  2         'male single'       none  ...   \n",
              "3                  2         'male single'  guarantor  ...   \n",
              "4                  3         'male single'       none  ...   \n",
              "\n",
              "              property age  installment_plans     housing existing_credits  \\\n",
              "0        'real estate'  67               none         own                2   \n",
              "1        'real estate'  22               none         own                1   \n",
              "2        'real estate'  49               none         own                1   \n",
              "3     'life insurance'  45               none  'for free'                1   \n",
              "4  'no known property'  53               none  'for free'                2   \n",
              "\n",
              "                    job people_liable   tel foreign_worker target  \n",
              "0               skilled             1   yes            yes   good  \n",
              "1               skilled             1  none            yes    bad  \n",
              "2  'unskilled resident'             2  none            yes   good  \n",
              "3               skilled             2  none            yes   good  \n",
              "4               skilled             2  none            yes    bad  \n",
              "\n",
              "[5 rows x 21 columns]"
            ],
            "text/html": [
              "\n",
              "  <div id=\"df-284e8cbb-4def-4384-ab90-49e5d039a9bd\">\n",
              "    <div class=\"colab-df-container\">\n",
              "      <div>\n",
              "<style scoped>\n",
              "    .dataframe tbody tr th:only-of-type {\n",
              "        vertical-align: middle;\n",
              "    }\n",
              "\n",
              "    .dataframe tbody tr th {\n",
              "        vertical-align: top;\n",
              "    }\n",
              "\n",
              "    .dataframe thead th {\n",
              "        text-align: right;\n",
              "    }\n",
              "</style>\n",
              "<table border=\"1\" class=\"dataframe\">\n",
              "  <thead>\n",
              "    <tr style=\"text-align: right;\">\n",
              "      <th></th>\n",
              "      <th>checking_account</th>\n",
              "      <th>duration</th>\n",
              "      <th>credit_history</th>\n",
              "      <th>credit_purpose</th>\n",
              "      <th>amount</th>\n",
              "      <th>savings</th>\n",
              "      <th>current_employ</th>\n",
              "      <th>disposable_income</th>\n",
              "      <th>personal_status</th>\n",
              "      <th>guarantors</th>\n",
              "      <th>...</th>\n",
              "      <th>property</th>\n",
              "      <th>age</th>\n",
              "      <th>installment_plans</th>\n",
              "      <th>housing</th>\n",
              "      <th>existing_credits</th>\n",
              "      <th>job</th>\n",
              "      <th>people_liable</th>\n",
              "      <th>tel</th>\n",
              "      <th>foreign_worker</th>\n",
              "      <th>target</th>\n",
              "    </tr>\n",
              "  </thead>\n",
              "  <tbody>\n",
              "    <tr>\n",
              "      <th>0</th>\n",
              "      <td>'&lt;0'</td>\n",
              "      <td>6</td>\n",
              "      <td>'critical/other existing credit'</td>\n",
              "      <td>radio/tv</td>\n",
              "      <td>1169</td>\n",
              "      <td>'no known savings'</td>\n",
              "      <td>'&gt;=7'</td>\n",
              "      <td>4</td>\n",
              "      <td>'male single'</td>\n",
              "      <td>none</td>\n",
              "      <td>...</td>\n",
              "      <td>'real estate'</td>\n",
              "      <td>67</td>\n",
              "      <td>none</td>\n",
              "      <td>own</td>\n",
              "      <td>2</td>\n",
              "      <td>skilled</td>\n",
              "      <td>1</td>\n",
              "      <td>yes</td>\n",
              "      <td>yes</td>\n",
              "      <td>good</td>\n",
              "    </tr>\n",
              "    <tr>\n",
              "      <th>1</th>\n",
              "      <td>'0&lt;=X&lt;200'</td>\n",
              "      <td>48</td>\n",
              "      <td>'existing paid'</td>\n",
              "      <td>radio/tv</td>\n",
              "      <td>5951</td>\n",
              "      <td>'&lt;100'</td>\n",
              "      <td>'1&lt;=X&lt;4'</td>\n",
              "      <td>2</td>\n",
              "      <td>'female div/dep/mar'</td>\n",
              "      <td>none</td>\n",
              "      <td>...</td>\n",
              "      <td>'real estate'</td>\n",
              "      <td>22</td>\n",
              "      <td>none</td>\n",
              "      <td>own</td>\n",
              "      <td>1</td>\n",
              "      <td>skilled</td>\n",
              "      <td>1</td>\n",
              "      <td>none</td>\n",
              "      <td>yes</td>\n",
              "      <td>bad</td>\n",
              "    </tr>\n",
              "    <tr>\n",
              "      <th>2</th>\n",
              "      <td>'no checking'</td>\n",
              "      <td>12</td>\n",
              "      <td>'critical/other existing credit'</td>\n",
              "      <td>education</td>\n",
              "      <td>2096</td>\n",
              "      <td>'&lt;100'</td>\n",
              "      <td>'4&lt;=X&lt;7'</td>\n",
              "      <td>2</td>\n",
              "      <td>'male single'</td>\n",
              "      <td>none</td>\n",
              "      <td>...</td>\n",
              "      <td>'real estate'</td>\n",
              "      <td>49</td>\n",
              "      <td>none</td>\n",
              "      <td>own</td>\n",
              "      <td>1</td>\n",
              "      <td>'unskilled resident'</td>\n",
              "      <td>2</td>\n",
              "      <td>none</td>\n",
              "      <td>yes</td>\n",
              "      <td>good</td>\n",
              "    </tr>\n",
              "    <tr>\n",
              "      <th>3</th>\n",
              "      <td>'&lt;0'</td>\n",
              "      <td>42</td>\n",
              "      <td>'existing paid'</td>\n",
              "      <td>furniture/equipment</td>\n",
              "      <td>7882</td>\n",
              "      <td>'&lt;100'</td>\n",
              "      <td>'4&lt;=X&lt;7'</td>\n",
              "      <td>2</td>\n",
              "      <td>'male single'</td>\n",
              "      <td>guarantor</td>\n",
              "      <td>...</td>\n",
              "      <td>'life insurance'</td>\n",
              "      <td>45</td>\n",
              "      <td>none</td>\n",
              "      <td>'for free'</td>\n",
              "      <td>1</td>\n",
              "      <td>skilled</td>\n",
              "      <td>2</td>\n",
              "      <td>none</td>\n",
              "      <td>yes</td>\n",
              "      <td>good</td>\n",
              "    </tr>\n",
              "    <tr>\n",
              "      <th>4</th>\n",
              "      <td>'&lt;0'</td>\n",
              "      <td>24</td>\n",
              "      <td>'delayed previously'</td>\n",
              "      <td>'new car'</td>\n",
              "      <td>4870</td>\n",
              "      <td>'&lt;100'</td>\n",
              "      <td>'1&lt;=X&lt;4'</td>\n",
              "      <td>3</td>\n",
              "      <td>'male single'</td>\n",
              "      <td>none</td>\n",
              "      <td>...</td>\n",
              "      <td>'no known property'</td>\n",
              "      <td>53</td>\n",
              "      <td>none</td>\n",
              "      <td>'for free'</td>\n",
              "      <td>2</td>\n",
              "      <td>skilled</td>\n",
              "      <td>2</td>\n",
              "      <td>none</td>\n",
              "      <td>yes</td>\n",
              "      <td>bad</td>\n",
              "    </tr>\n",
              "  </tbody>\n",
              "</table>\n",
              "<p>5 rows × 21 columns</p>\n",
              "</div>\n",
              "      <button class=\"colab-df-convert\" onclick=\"convertToInteractive('df-284e8cbb-4def-4384-ab90-49e5d039a9bd')\"\n",
              "              title=\"Convert this dataframe to an interactive table.\"\n",
              "              style=\"display:none;\">\n",
              "        \n",
              "  <svg xmlns=\"http://www.w3.org/2000/svg\" height=\"24px\"viewBox=\"0 0 24 24\"\n",
              "       width=\"24px\">\n",
              "    <path d=\"M0 0h24v24H0V0z\" fill=\"none\"/>\n",
              "    <path d=\"M18.56 5.44l.94 2.06.94-2.06 2.06-.94-2.06-.94-.94-2.06-.94 2.06-2.06.94zm-11 1L8.5 8.5l.94-2.06 2.06-.94-2.06-.94L8.5 2.5l-.94 2.06-2.06.94zm10 10l.94 2.06.94-2.06 2.06-.94-2.06-.94-.94-2.06-.94 2.06-2.06.94z\"/><path d=\"M17.41 7.96l-1.37-1.37c-.4-.4-.92-.59-1.43-.59-.52 0-1.04.2-1.43.59L10.3 9.45l-7.72 7.72c-.78.78-.78 2.05 0 2.83L4 21.41c.39.39.9.59 1.41.59.51 0 1.02-.2 1.41-.59l7.78-7.78 2.81-2.81c.8-.78.8-2.07 0-2.86zM5.41 20L4 18.59l7.72-7.72 1.47 1.35L5.41 20z\"/>\n",
              "  </svg>\n",
              "      </button>\n",
              "      \n",
              "  <style>\n",
              "    .colab-df-container {\n",
              "      display:flex;\n",
              "      flex-wrap:wrap;\n",
              "      gap: 12px;\n",
              "    }\n",
              "\n",
              "    .colab-df-convert {\n",
              "      background-color: #E8F0FE;\n",
              "      border: none;\n",
              "      border-radius: 50%;\n",
              "      cursor: pointer;\n",
              "      display: none;\n",
              "      fill: #1967D2;\n",
              "      height: 32px;\n",
              "      padding: 0 0 0 0;\n",
              "      width: 32px;\n",
              "    }\n",
              "\n",
              "    .colab-df-convert:hover {\n",
              "      background-color: #E2EBFA;\n",
              "      box-shadow: 0px 1px 2px rgba(60, 64, 67, 0.3), 0px 1px 3px 1px rgba(60, 64, 67, 0.15);\n",
              "      fill: #174EA6;\n",
              "    }\n",
              "\n",
              "    [theme=dark] .colab-df-convert {\n",
              "      background-color: #3B4455;\n",
              "      fill: #D2E3FC;\n",
              "    }\n",
              "\n",
              "    [theme=dark] .colab-df-convert:hover {\n",
              "      background-color: #434B5C;\n",
              "      box-shadow: 0px 1px 3px 1px rgba(0, 0, 0, 0.15);\n",
              "      filter: drop-shadow(0px 1px 2px rgba(0, 0, 0, 0.3));\n",
              "      fill: #FFFFFF;\n",
              "    }\n",
              "  </style>\n",
              "\n",
              "      <script>\n",
              "        const buttonEl =\n",
              "          document.querySelector('#df-284e8cbb-4def-4384-ab90-49e5d039a9bd button.colab-df-convert');\n",
              "        buttonEl.style.display =\n",
              "          google.colab.kernel.accessAllowed ? 'block' : 'none';\n",
              "\n",
              "        async function convertToInteractive(key) {\n",
              "          const element = document.querySelector('#df-284e8cbb-4def-4384-ab90-49e5d039a9bd');\n",
              "          const dataTable =\n",
              "            await google.colab.kernel.invokeFunction('convertToInteractive',\n",
              "                                                     [key], {});\n",
              "          if (!dataTable) return;\n",
              "\n",
              "          const docLinkHtml = 'Like what you see? Visit the ' +\n",
              "            '<a target=\"_blank\" href=https://colab.research.google.com/notebooks/data_table.ipynb>data table notebook</a>'\n",
              "            + ' to learn more about interactive tables.';\n",
              "          element.innerHTML = '';\n",
              "          dataTable['output_type'] = 'display_data';\n",
              "          await google.colab.output.renderOutput(dataTable, element);\n",
              "          const docLink = document.createElement('div');\n",
              "          docLink.innerHTML = docLinkHtml;\n",
              "          element.appendChild(docLink);\n",
              "        }\n",
              "      </script>\n",
              "    </div>\n",
              "  </div>\n",
              "  "
            ]
          },
          "metadata": {},
          "execution_count": 2
        }
      ]
    },
    {
      "cell_type": "markdown",
      "source": [
        "##Preprocesamiento de datos"
      ],
      "metadata": {
        "id": "BJ45UWKTfhM9"
      }
    },
    {
      "cell_type": "markdown",
      "source": [
        "Primero se observa si tenemos datos nulos"
      ],
      "metadata": {
        "id": "ts0JyE3EgOD6"
      }
    },
    {
      "cell_type": "code",
      "source": [
        "df.isnull().sum()"
      ],
      "metadata": {
        "colab": {
          "base_uri": "https://localhost:8080/"
        },
        "id": "KyA_DmybfkgH",
        "outputId": "d7102e31-1272-4202-8e0d-5fde309482ac"
      },
      "execution_count": null,
      "outputs": [
        {
          "output_type": "execute_result",
          "data": {
            "text/plain": [
              "checking_account           0\n",
              "duration                   0\n",
              "credit_history             0\n",
              "credit_purpose             0\n",
              "amount                     0\n",
              "savings                    0\n",
              "current_employ             0\n",
              "disposable_income          0\n",
              "personal_status            0\n",
              "guarantors                 0\n",
              "current_residence_years    0\n",
              "property                   0\n",
              "age                        0\n",
              "installment_plans          0\n",
              "housing                    0\n",
              "existing_credits           0\n",
              "job                        0\n",
              "people_liable              0\n",
              "tel                        0\n",
              "foreign_worker             0\n",
              "target                     0\n",
              "dtype: int64"
            ]
          },
          "metadata": {},
          "execution_count": 3
        }
      ]
    },
    {
      "cell_type": "markdown",
      "source": [
        "Como no se tienen valores nulos dentro del dataset, se procede con la verificación de los tipos de valores dentro del mismo"
      ],
      "metadata": {
        "id": "i3YfqZcmgyhu"
      }
    },
    {
      "cell_type": "code",
      "source": [
        "df.info()"
      ],
      "metadata": {
        "colab": {
          "base_uri": "https://localhost:8080/"
        },
        "id": "9ssBLtRUg7Nl",
        "outputId": "76d7e698-8390-43c0-8850-f6f921c548e7"
      },
      "execution_count": null,
      "outputs": [
        {
          "output_type": "stream",
          "name": "stdout",
          "text": [
            "<class 'pandas.core.frame.DataFrame'>\n",
            "RangeIndex: 1000 entries, 0 to 999\n",
            "Data columns (total 21 columns):\n",
            " #   Column                   Non-Null Count  Dtype \n",
            "---  ------                   --------------  ----- \n",
            " 0   checking_account         1000 non-null   object\n",
            " 1   duration                 1000 non-null   int64 \n",
            " 2   credit_history           1000 non-null   object\n",
            " 3   credit_purpose           1000 non-null   object\n",
            " 4   amount                   1000 non-null   int64 \n",
            " 5   savings                  1000 non-null   object\n",
            " 6   current_employ           1000 non-null   object\n",
            " 7   disposable_income        1000 non-null   int64 \n",
            " 8   personal_status          1000 non-null   object\n",
            " 9   guarantors               1000 non-null   object\n",
            " 10  current_residence_years  1000 non-null   int64 \n",
            " 11  property                 1000 non-null   object\n",
            " 12  age                      1000 non-null   int64 \n",
            " 13  installment_plans        1000 non-null   object\n",
            " 14  housing                  1000 non-null   object\n",
            " 15  existing_credits         1000 non-null   int64 \n",
            " 16  job                      1000 non-null   object\n",
            " 17  people_liable            1000 non-null   int64 \n",
            " 18  tel                      1000 non-null   object\n",
            " 19  foreign_worker           1000 non-null   object\n",
            " 20  target                   1000 non-null   object\n",
            "dtypes: int64(7), object(14)\n",
            "memory usage: 164.2+ KB\n"
          ]
        }
      ]
    },
    {
      "cell_type": "markdown",
      "source": [
        "Los valores que aparecen tipo object son cadenas de texto que podemos clasificarla según el número de parametros únicos que tenga"
      ],
      "metadata": {
        "id": "CBbeLbj4hA8Z"
      }
    },
    {
      "cell_type": "code",
      "source": [
        "cat_cols = [col for col in df.columns if df[col].dtypes == \"O\"]\n",
        "for col in cat_cols:\n",
        "    print(df[col].value_counts(), \"\\n\\n\")"
      ],
      "metadata": {
        "colab": {
          "base_uri": "https://localhost:8080/"
        },
        "id": "vbD7KNJdhKQO",
        "outputId": "ea86fc1f-ca9d-440d-b19f-724ab8ab1afa"
      },
      "execution_count": null,
      "outputs": [
        {
          "output_type": "stream",
          "name": "stdout",
          "text": [
            "'no checking'    394\n",
            "'<0'             274\n",
            "'0<=X<200'       269\n",
            "'>=200'           63\n",
            "Name: checking_account, dtype: int64 \n",
            "\n",
            "\n",
            "'existing paid'                     530\n",
            "'critical/other existing credit'    293\n",
            "'delayed previously'                 88\n",
            "'all paid'                           49\n",
            "'no credits/all paid'                40\n",
            "Name: credit_history, dtype: int64 \n",
            "\n",
            "\n",
            "radio/tv                280\n",
            "'new car'               234\n",
            "furniture/equipment     181\n",
            "'used car'              103\n",
            "business                 97\n",
            "education                50\n",
            "repairs                  22\n",
            "'domestic appliance'     12\n",
            "other                    12\n",
            "retraining                9\n",
            "Name: credit_purpose, dtype: int64 \n",
            "\n",
            "\n",
            "'<100'                603\n",
            "'no known savings'    183\n",
            "'100<=X<500'          103\n",
            "'500<=X<1000'          63\n",
            "'>=1000'               48\n",
            "Name: savings, dtype: int64 \n",
            "\n",
            "\n",
            "'1<=X<4'      339\n",
            "'>=7'         253\n",
            "'4<=X<7'      174\n",
            "'<1'          172\n",
            "unemployed     62\n",
            "Name: current_employ, dtype: int64 \n",
            "\n",
            "\n",
            "'male single'           548\n",
            "'female div/dep/mar'    310\n",
            "'male mar/wid'           92\n",
            "'male div/sep'           50\n",
            "Name: personal_status, dtype: int64 \n",
            "\n",
            "\n",
            "none              907\n",
            "guarantor          52\n",
            "'co applicant'     41\n",
            "Name: guarantors, dtype: int64 \n",
            "\n",
            "\n",
            "car                    332\n",
            "'real estate'          282\n",
            "'life insurance'       232\n",
            "'no known property'    154\n",
            "Name: property, dtype: int64 \n",
            "\n",
            "\n",
            "none      814\n",
            "bank      139\n",
            "stores     47\n",
            "Name: installment_plans, dtype: int64 \n",
            "\n",
            "\n",
            "own           713\n",
            "rent          179\n",
            "'for free'    108\n",
            "Name: housing, dtype: int64 \n",
            "\n",
            "\n",
            "skilled                        630\n",
            "'unskilled resident'           200\n",
            "'high qualif/self emp/mgmt'    148\n",
            "'unemp/unskilled non res'       22\n",
            "Name: job, dtype: int64 \n",
            "\n",
            "\n",
            "none    596\n",
            "yes     404\n",
            "Name: tel, dtype: int64 \n",
            "\n",
            "\n",
            "yes    963\n",
            "no      37\n",
            "Name: foreign_worker, dtype: int64 \n",
            "\n",
            "\n",
            "good    700\n",
            "bad     300\n",
            "Name: target, dtype: int64 \n",
            "\n",
            "\n"
          ]
        }
      ]
    },
    {
      "cell_type": "markdown",
      "source": [
        "Se buscan y eliminan las filas duplicadas"
      ],
      "metadata": {
        "id": "WG4kv-i6roKR"
      }
    },
    {
      "cell_type": "code",
      "source": [
        "df.shape"
      ],
      "metadata": {
        "colab": {
          "base_uri": "https://localhost:8080/"
        },
        "id": "7Puesj6orse3",
        "outputId": "e7b19d9a-ddf7-4335-f800-8a99a47c4f26"
      },
      "execution_count": null,
      "outputs": [
        {
          "output_type": "execute_result",
          "data": {
            "text/plain": [
              "(1000, 21)"
            ]
          },
          "metadata": {},
          "execution_count": 6
        }
      ]
    },
    {
      "cell_type": "code",
      "source": [
        "duplicate_rows_df = df[df.duplicated()]\n",
        "print(\"number of duplicate rows: \", duplicate_rows_df.shape)"
      ],
      "metadata": {
        "colab": {
          "base_uri": "https://localhost:8080/"
        },
        "id": "X33Xc2K_rviB",
        "outputId": "05a24711-3550-4cde-d2c5-bd6a7c487a15"
      },
      "execution_count": null,
      "outputs": [
        {
          "output_type": "stream",
          "name": "stdout",
          "text": [
            "number of duplicate rows:  (0, 21)\n"
          ]
        }
      ]
    },
    {
      "cell_type": "code",
      "source": [
        "df.count()"
      ],
      "metadata": {
        "id": "lVMkq6HyryF5",
        "colab": {
          "base_uri": "https://localhost:8080/"
        },
        "outputId": "9088f107-669f-4d76-a1e1-6b6e1b17feb2"
      },
      "execution_count": null,
      "outputs": [
        {
          "output_type": "execute_result",
          "data": {
            "text/plain": [
              "checking_account           1000\n",
              "duration                   1000\n",
              "credit_history             1000\n",
              "credit_purpose             1000\n",
              "amount                     1000\n",
              "savings                    1000\n",
              "current_employ             1000\n",
              "disposable_income          1000\n",
              "personal_status            1000\n",
              "guarantors                 1000\n",
              "current_residence_years    1000\n",
              "property                   1000\n",
              "age                        1000\n",
              "installment_plans          1000\n",
              "housing                    1000\n",
              "existing_credits           1000\n",
              "job                        1000\n",
              "people_liable              1000\n",
              "tel                        1000\n",
              "foreign_worker             1000\n",
              "target                     1000\n",
              "dtype: int64"
            ]
          },
          "metadata": {},
          "execution_count": 8
        }
      ]
    },
    {
      "cell_type": "markdown",
      "source": [
        "##Pruebas"
      ],
      "metadata": {
        "id": "9_dsojcA0wWq"
      }
    },
    {
      "cell_type": "markdown",
      "source": [
        "Este apartado es solo demostrativo para eliminar los outliers, y observar los resultados que se obtiene, sin embargo, para las pruebas finales se debe saltar este paso."
      ],
      "metadata": {
        "id": "iVINK8wS1_6-"
      }
    },
    {
      "cell_type": "code",
      "source": [
        "Q1 = df.quantile(0.25)\n",
        "Q3 = df.quantile(0.75)\n",
        "IQR = Q3 - Q1\n",
        "print(IQR)"
      ],
      "metadata": {
        "colab": {
          "base_uri": "https://localhost:8080/"
        },
        "id": "ZnjkZcQu1LR4",
        "outputId": "dac11949-e337-4b29-d930-1f84d8c79bf6"
      },
      "execution_count": null,
      "outputs": [
        {
          "output_type": "stream",
          "name": "stdout",
          "text": [
            "duration                     12.00\n",
            "amount                     2606.75\n",
            "disposable_income             2.00\n",
            "current_residence_years       2.00\n",
            "age                          15.00\n",
            "existing_credits              1.00\n",
            "people_liable                 0.00\n",
            "dtype: float64\n"
          ]
        }
      ]
    },
    {
      "cell_type": "code",
      "source": [
        "df = df[~((df < (Q1 - 1.5 * IQR)) |(df > (Q3 + 1.5 * IQR))).any(axis=1)]\n",
        "df.shape"
      ],
      "metadata": {
        "colab": {
          "base_uri": "https://localhost:8080/"
        },
        "id": "AZAu3j__1vsv",
        "outputId": "b11f7c3f-eaaf-4010-f274-ef169f454026"
      },
      "execution_count": null,
      "outputs": [
        {
          "output_type": "stream",
          "name": "stderr",
          "text": [
            "/usr/local/lib/python3.7/dist-packages/ipykernel_launcher.py:1: FutureWarning: Automatic reindexing on DataFrame vs Series comparisons is deprecated and will raise ValueError in a future version.  Do `left, right = left.align(right, axis=1, copy=False)` before e.g. `left == right`\n",
            "  \"\"\"Entry point for launching an IPython kernel.\n"
          ]
        },
        {
          "output_type": "execute_result",
          "data": {
            "text/plain": [
              "(728, 21)"
            ]
          },
          "metadata": {},
          "execution_count": 40
        }
      ]
    },
    {
      "cell_type": "code",
      "source": [
        "print(df.isnull().sum())"
      ],
      "metadata": {
        "colab": {
          "base_uri": "https://localhost:8080/"
        },
        "id": "khqkwtmG18Ib",
        "outputId": "3cfa304d-5ffe-4d42-f7ac-9b0f967a635c"
      },
      "execution_count": null,
      "outputs": [
        {
          "output_type": "stream",
          "name": "stdout",
          "text": [
            "checking_account           0\n",
            "duration                   0\n",
            "credit_history             0\n",
            "credit_purpose             0\n",
            "amount                     0\n",
            "savings                    0\n",
            "current_employ             0\n",
            "disposable_income          0\n",
            "personal_status            0\n",
            "guarantors                 0\n",
            "current_residence_years    0\n",
            "property                   0\n",
            "age                        0\n",
            "installment_plans          0\n",
            "housing                    0\n",
            "existing_credits           0\n",
            "job                        0\n",
            "people_liable              0\n",
            "tel                        0\n",
            "foreign_worker             0\n",
            "target                     0\n",
            "dtype: int64\n"
          ]
        }
      ]
    },
    {
      "cell_type": "code",
      "source": [
        "df = df.dropna()\n",
        "df.count()"
      ],
      "metadata": {
        "colab": {
          "base_uri": "https://localhost:8080/"
        },
        "id": "79sjWPUC2vOO",
        "outputId": "41cb63b7-5b73-40ff-c9a7-7fcce1095049"
      },
      "execution_count": null,
      "outputs": [
        {
          "output_type": "execute_result",
          "data": {
            "text/plain": [
              "checking_account           728\n",
              "duration                   728\n",
              "credit_history             728\n",
              "credit_purpose             728\n",
              "amount                     728\n",
              "savings                    728\n",
              "current_employ             728\n",
              "disposable_income          728\n",
              "personal_status            728\n",
              "guarantors                 728\n",
              "current_residence_years    728\n",
              "property                   728\n",
              "age                        728\n",
              "installment_plans          728\n",
              "housing                    728\n",
              "existing_credits           728\n",
              "job                        728\n",
              "people_liable              728\n",
              "tel                        728\n",
              "foreign_worker             728\n",
              "target                     728\n",
              "dtype: int64"
            ]
          },
          "metadata": {},
          "execution_count": 42
        }
      ]
    },
    {
      "cell_type": "code",
      "source": [
        "df.info()"
      ],
      "metadata": {
        "colab": {
          "base_uri": "https://localhost:8080/"
        },
        "id": "i--hheiS2yTp",
        "outputId": "526a69bc-827e-4f49-c502-c42c4e5a003c"
      },
      "execution_count": null,
      "outputs": [
        {
          "output_type": "stream",
          "name": "stdout",
          "text": [
            "<class 'pandas.core.frame.DataFrame'>\n",
            "Int64Index: 728 entries, 6 to 997\n",
            "Data columns (total 21 columns):\n",
            " #   Column                   Non-Null Count  Dtype \n",
            "---  ------                   --------------  ----- \n",
            " 0   checking_account         728 non-null    object\n",
            " 1   duration                 728 non-null    int64 \n",
            " 2   credit_history           728 non-null    object\n",
            " 3   credit_purpose           728 non-null    object\n",
            " 4   amount                   728 non-null    int64 \n",
            " 5   savings                  728 non-null    object\n",
            " 6   current_employ           728 non-null    object\n",
            " 7   disposable_income        728 non-null    int64 \n",
            " 8   personal_status          728 non-null    object\n",
            " 9   guarantors               728 non-null    object\n",
            " 10  current_residence_years  728 non-null    int64 \n",
            " 11  property                 728 non-null    object\n",
            " 12  age                      728 non-null    int64 \n",
            " 13  installment_plans        728 non-null    object\n",
            " 14  housing                  728 non-null    object\n",
            " 15  existing_credits         728 non-null    int64 \n",
            " 16  job                      728 non-null    object\n",
            " 17  people_liable            728 non-null    int64 \n",
            " 18  tel                      728 non-null    object\n",
            " 19  foreign_worker           728 non-null    object\n",
            " 20  target                   728 non-null    object\n",
            "dtypes: int64(7), object(14)\n",
            "memory usage: 125.1+ KB\n"
          ]
        }
      ]
    },
    {
      "cell_type": "markdown",
      "source": [
        "##Codificación con OneHot"
      ],
      "metadata": {
        "id": "Ii_xj-ni7K_t"
      }
    },
    {
      "cell_type": "code",
      "source": [
        "df[['checking_account', 'credit_history', 'credit_purpose', 'savings', 'current_employ', 'personal_status', 'guarantors', 'property', 'installment_plans', 'housing', 'job', 'tel', 'foreign_worker', 'target']]=df[['checking_account', 'credit_history', 'credit_purpose', 'savings', 'current_employ', 'personal_status', 'guarantors', 'property', 'installment_plans', 'housing', 'job', 'tel', 'foreign_worker', 'target']].astype(\"category\")\n",
        "df.info()"
      ],
      "metadata": {
        "colab": {
          "base_uri": "https://localhost:8080/"
        },
        "id": "IN_BvTfG9Iij",
        "outputId": "ffb81622-e16e-4dcc-9c9f-d38bc542dc3d"
      },
      "execution_count": null,
      "outputs": [
        {
          "output_type": "stream",
          "name": "stdout",
          "text": [
            "<class 'pandas.core.frame.DataFrame'>\n",
            "RangeIndex: 1000 entries, 0 to 999\n",
            "Data columns (total 21 columns):\n",
            " #   Column                   Non-Null Count  Dtype   \n",
            "---  ------                   --------------  -----   \n",
            " 0   checking_account         1000 non-null   category\n",
            " 1   duration                 1000 non-null   int64   \n",
            " 2   credit_history           1000 non-null   category\n",
            " 3   credit_purpose           1000 non-null   category\n",
            " 4   amount                   1000 non-null   int64   \n",
            " 5   savings                  1000 non-null   category\n",
            " 6   current_employ           1000 non-null   category\n",
            " 7   disposable_income        1000 non-null   int64   \n",
            " 8   personal_status          1000 non-null   category\n",
            " 9   guarantors               1000 non-null   category\n",
            " 10  current_residence_years  1000 non-null   int64   \n",
            " 11  property                 1000 non-null   category\n",
            " 12  age                      1000 non-null   int64   \n",
            " 13  installment_plans        1000 non-null   category\n",
            " 14  housing                  1000 non-null   category\n",
            " 15  existing_credits         1000 non-null   int64   \n",
            " 16  job                      1000 non-null   category\n",
            " 17  people_liable            1000 non-null   int64   \n",
            " 18  tel                      1000 non-null   category\n",
            " 19  foreign_worker           1000 non-null   category\n",
            " 20  target                   1000 non-null   category\n",
            "dtypes: category(14), int64(7)\n",
            "memory usage: 71.0 KB\n"
          ]
        }
      ]
    },
    {
      "cell_type": "code",
      "source": [
        "codificator = LabelBinarizer().fit(['good', 'bad'])\n",
        "target_new = codificator.transform(df['target'].values)\n",
        "#print(target_new)\n"
      ],
      "metadata": {
        "id": "y9GJ5wbaRhVv"
      },
      "execution_count": null,
      "outputs": []
    },
    {
      "cell_type": "code",
      "source": [
        "Codificador1 = OneHotEncoder()\n",
        "Codificador2 = OneHotEncoder()\n",
        "Codificador3 = OneHotEncoder()\n",
        "Codificador4 = OneHotEncoder()\n",
        "Codificador5 = OneHotEncoder()\n",
        "Codificador6 = OneHotEncoder()\n",
        "Codificador7 = OneHotEncoder()\n",
        "Codificador8 = OneHotEncoder()\n",
        "Codificador9 = OneHotEncoder()\n",
        "Codificador10 = OneHotEncoder()\n",
        "Codificador11 = OneHotEncoder()\n",
        "Codificador12 = OneHotEncoder()\n",
        "Codificador13 = OneHotEncoder()\n",
        "Codificador14 = OneHotEncoder()\n",
        "\n",
        "\n",
        "codificacion1 = Codificador1.fit_transform(df[[\"checking_account\"]])\n",
        "codificacion2 = Codificador2.fit_transform(df[[\"credit_history\"]])\n",
        "codificacion3 = Codificador3.fit_transform(df[[\"credit_purpose\"]])\n",
        "codificacion4 = Codificador4.fit_transform(df[[\"savings\"]])\n",
        "codificacion5 = Codificador5.fit_transform(df[[\"current_employ\"]])\n",
        "codificacion6 = Codificador6.fit_transform(df[[\"personal_status\"]])\n",
        "codificacion7 = Codificador7.fit_transform(df[[\"guarantors\"]])\n",
        "codificacion8 = Codificador8.fit_transform(df[[\"property\"]])\n",
        "codificacion9 = Codificador9.fit_transform(df[[\"installment_plans\"]])\n",
        "codificacion10 = Codificador10.fit_transform(df[[\"housing\"]])\n",
        "codificacion11 = Codificador11.fit_transform(df[[\"job\"]])\n",
        "codificacion12 = Codificador12.fit_transform(df[[\"tel\"]])\n",
        "codificacion13 = Codificador13.fit_transform(df[[\"foreign_worker\"]])\n",
        "codificacion14 = Codificador14.fit_transform(df[[\"target\"]])\n",
        "\n",
        "\n",
        "\n",
        "nuevas_cols1 =pd.DataFrame(codificacion1.toarray(), columns =Codificador1.categories_)\n",
        "nuevas_cols2 =pd.DataFrame(codificacion2.toarray(), columns =Codificador2.categories_)\n",
        "nuevas_cols3 =pd.DataFrame(codificacion3.toarray(), columns =Codificador3.categories_)\n",
        "nuevas_cols4 =pd.DataFrame(codificacion4.toarray(), columns =Codificador4.categories_)\n",
        "nuevas_cols5 =pd.DataFrame(codificacion5.toarray(), columns =Codificador5.categories_)\n",
        "nuevas_cols6 =pd.DataFrame(codificacion6.toarray(), columns =Codificador6.categories_)\n",
        "nuevas_cols7 =pd.DataFrame(codificacion7.toarray(), columns =Codificador7.categories_)\n",
        "nuevas_cols8 =pd.DataFrame(codificacion8.toarray(), columns =Codificador8.categories_)\n",
        "nuevas_cols9 =pd.DataFrame(codificacion9.toarray(), columns =Codificador9.categories_)\n",
        "nuevas_cols10 =pd.DataFrame(codificacion10.toarray(), columns =Codificador10.categories_)\n",
        "nuevas_cols11 =pd.DataFrame(codificacion11.toarray(), columns =Codificador11.categories_)\n",
        "nuevas_cols12 =pd.DataFrame(codificacion12.toarray(), columns =Codificador12.categories_)\n",
        "nuevas_cols13 =pd.DataFrame(codificacion13.toarray(), columns =Codificador13.categories_)\n",
        "\n",
        "\n",
        "df = pd.concat([df, nuevas_cols1, nuevas_cols2, nuevas_cols3, nuevas_cols4, nuevas_cols5, nuevas_cols6, nuevas_cols7, nuevas_cols8, nuevas_cols9, nuevas_cols10, nuevas_cols11, nuevas_cols12, nuevas_cols13, nuevas_cols12, nuevas_cols13], axis=\"columns\")\n",
        "df.head(5)"
      ],
      "metadata": {
        "id": "EbZngI9FB4kG",
        "colab": {
          "base_uri": "https://localhost:8080/",
          "height": 404
        },
        "outputId": "566a0b21-a672-40bf-8572-951d6deceb35"
      },
      "execution_count": null,
      "outputs": [
        {
          "output_type": "execute_result",
          "data": {
            "text/plain": [
              "  checking_account  duration                    credit_history  \\\n",
              "0             '<0'         6  'critical/other existing credit'   \n",
              "1       '0<=X<200'        48                   'existing paid'   \n",
              "2    'no checking'        12  'critical/other existing credit'   \n",
              "3             '<0'        42                   'existing paid'   \n",
              "4             '<0'        24              'delayed previously'   \n",
              "\n",
              "        credit_purpose  amount             savings current_employ  \\\n",
              "0             radio/tv    1169  'no known savings'          '>=7'   \n",
              "1             radio/tv    5951              '<100'       '1<=X<4'   \n",
              "2            education    2096              '<100'       '4<=X<7'   \n",
              "3  furniture/equipment    7882              '<100'       '4<=X<7'   \n",
              "4            'new car'    4870              '<100'       '1<=X<4'   \n",
              "\n",
              "   disposable_income       personal_status guarantors  ...  \\\n",
              "0                  4         'male single'       none  ...   \n",
              "1                  2  'female div/dep/mar'       none  ...   \n",
              "2                  2         'male single'       none  ...   \n",
              "3                  2         'male single'  guarantor  ...   \n",
              "4                  3         'male single'       none  ...   \n",
              "\n",
              "   ('unskilled resident',) (skilled,) (none,) (yes,) (no,) (yes,) (none,)  \\\n",
              "0                      0.0        1.0     0.0    1.0   0.0    1.0     0.0   \n",
              "1                      0.0        1.0     1.0    0.0   0.0    1.0     1.0   \n",
              "2                      1.0        0.0     1.0    0.0   0.0    1.0     1.0   \n",
              "3                      0.0        1.0     1.0    0.0   0.0    1.0     1.0   \n",
              "4                      0.0        1.0     1.0    0.0   0.0    1.0     1.0   \n",
              "\n",
              "  (yes,) (no,) (yes,)  \n",
              "0    1.0   0.0    1.0  \n",
              "1    0.0   0.0    1.0  \n",
              "2    0.0   0.0    1.0  \n",
              "3    0.0   0.0    1.0  \n",
              "4    0.0   0.0    1.0  \n",
              "\n",
              "[5 rows x 79 columns]"
            ],
            "text/html": [
              "\n",
              "  <div id=\"df-0f5e40e2-d8fa-4b30-9c5c-fac52250e207\">\n",
              "    <div class=\"colab-df-container\">\n",
              "      <div>\n",
              "<style scoped>\n",
              "    .dataframe tbody tr th:only-of-type {\n",
              "        vertical-align: middle;\n",
              "    }\n",
              "\n",
              "    .dataframe tbody tr th {\n",
              "        vertical-align: top;\n",
              "    }\n",
              "\n",
              "    .dataframe thead th {\n",
              "        text-align: right;\n",
              "    }\n",
              "</style>\n",
              "<table border=\"1\" class=\"dataframe\">\n",
              "  <thead>\n",
              "    <tr style=\"text-align: right;\">\n",
              "      <th></th>\n",
              "      <th>checking_account</th>\n",
              "      <th>duration</th>\n",
              "      <th>credit_history</th>\n",
              "      <th>credit_purpose</th>\n",
              "      <th>amount</th>\n",
              "      <th>savings</th>\n",
              "      <th>current_employ</th>\n",
              "      <th>disposable_income</th>\n",
              "      <th>personal_status</th>\n",
              "      <th>guarantors</th>\n",
              "      <th>...</th>\n",
              "      <th>('unskilled resident',)</th>\n",
              "      <th>(skilled,)</th>\n",
              "      <th>(none,)</th>\n",
              "      <th>(yes,)</th>\n",
              "      <th>(no,)</th>\n",
              "      <th>(yes,)</th>\n",
              "      <th>(none,)</th>\n",
              "      <th>(yes,)</th>\n",
              "      <th>(no,)</th>\n",
              "      <th>(yes,)</th>\n",
              "    </tr>\n",
              "  </thead>\n",
              "  <tbody>\n",
              "    <tr>\n",
              "      <th>0</th>\n",
              "      <td>'&lt;0'</td>\n",
              "      <td>6</td>\n",
              "      <td>'critical/other existing credit'</td>\n",
              "      <td>radio/tv</td>\n",
              "      <td>1169</td>\n",
              "      <td>'no known savings'</td>\n",
              "      <td>'&gt;=7'</td>\n",
              "      <td>4</td>\n",
              "      <td>'male single'</td>\n",
              "      <td>none</td>\n",
              "      <td>...</td>\n",
              "      <td>0.0</td>\n",
              "      <td>1.0</td>\n",
              "      <td>0.0</td>\n",
              "      <td>1.0</td>\n",
              "      <td>0.0</td>\n",
              "      <td>1.0</td>\n",
              "      <td>0.0</td>\n",
              "      <td>1.0</td>\n",
              "      <td>0.0</td>\n",
              "      <td>1.0</td>\n",
              "    </tr>\n",
              "    <tr>\n",
              "      <th>1</th>\n",
              "      <td>'0&lt;=X&lt;200'</td>\n",
              "      <td>48</td>\n",
              "      <td>'existing paid'</td>\n",
              "      <td>radio/tv</td>\n",
              "      <td>5951</td>\n",
              "      <td>'&lt;100'</td>\n",
              "      <td>'1&lt;=X&lt;4'</td>\n",
              "      <td>2</td>\n",
              "      <td>'female div/dep/mar'</td>\n",
              "      <td>none</td>\n",
              "      <td>...</td>\n",
              "      <td>0.0</td>\n",
              "      <td>1.0</td>\n",
              "      <td>1.0</td>\n",
              "      <td>0.0</td>\n",
              "      <td>0.0</td>\n",
              "      <td>1.0</td>\n",
              "      <td>1.0</td>\n",
              "      <td>0.0</td>\n",
              "      <td>0.0</td>\n",
              "      <td>1.0</td>\n",
              "    </tr>\n",
              "    <tr>\n",
              "      <th>2</th>\n",
              "      <td>'no checking'</td>\n",
              "      <td>12</td>\n",
              "      <td>'critical/other existing credit'</td>\n",
              "      <td>education</td>\n",
              "      <td>2096</td>\n",
              "      <td>'&lt;100'</td>\n",
              "      <td>'4&lt;=X&lt;7'</td>\n",
              "      <td>2</td>\n",
              "      <td>'male single'</td>\n",
              "      <td>none</td>\n",
              "      <td>...</td>\n",
              "      <td>1.0</td>\n",
              "      <td>0.0</td>\n",
              "      <td>1.0</td>\n",
              "      <td>0.0</td>\n",
              "      <td>0.0</td>\n",
              "      <td>1.0</td>\n",
              "      <td>1.0</td>\n",
              "      <td>0.0</td>\n",
              "      <td>0.0</td>\n",
              "      <td>1.0</td>\n",
              "    </tr>\n",
              "    <tr>\n",
              "      <th>3</th>\n",
              "      <td>'&lt;0'</td>\n",
              "      <td>42</td>\n",
              "      <td>'existing paid'</td>\n",
              "      <td>furniture/equipment</td>\n",
              "      <td>7882</td>\n",
              "      <td>'&lt;100'</td>\n",
              "      <td>'4&lt;=X&lt;7'</td>\n",
              "      <td>2</td>\n",
              "      <td>'male single'</td>\n",
              "      <td>guarantor</td>\n",
              "      <td>...</td>\n",
              "      <td>0.0</td>\n",
              "      <td>1.0</td>\n",
              "      <td>1.0</td>\n",
              "      <td>0.0</td>\n",
              "      <td>0.0</td>\n",
              "      <td>1.0</td>\n",
              "      <td>1.0</td>\n",
              "      <td>0.0</td>\n",
              "      <td>0.0</td>\n",
              "      <td>1.0</td>\n",
              "    </tr>\n",
              "    <tr>\n",
              "      <th>4</th>\n",
              "      <td>'&lt;0'</td>\n",
              "      <td>24</td>\n",
              "      <td>'delayed previously'</td>\n",
              "      <td>'new car'</td>\n",
              "      <td>4870</td>\n",
              "      <td>'&lt;100'</td>\n",
              "      <td>'1&lt;=X&lt;4'</td>\n",
              "      <td>3</td>\n",
              "      <td>'male single'</td>\n",
              "      <td>none</td>\n",
              "      <td>...</td>\n",
              "      <td>0.0</td>\n",
              "      <td>1.0</td>\n",
              "      <td>1.0</td>\n",
              "      <td>0.0</td>\n",
              "      <td>0.0</td>\n",
              "      <td>1.0</td>\n",
              "      <td>1.0</td>\n",
              "      <td>0.0</td>\n",
              "      <td>0.0</td>\n",
              "      <td>1.0</td>\n",
              "    </tr>\n",
              "  </tbody>\n",
              "</table>\n",
              "<p>5 rows × 79 columns</p>\n",
              "</div>\n",
              "      <button class=\"colab-df-convert\" onclick=\"convertToInteractive('df-0f5e40e2-d8fa-4b30-9c5c-fac52250e207')\"\n",
              "              title=\"Convert this dataframe to an interactive table.\"\n",
              "              style=\"display:none;\">\n",
              "        \n",
              "  <svg xmlns=\"http://www.w3.org/2000/svg\" height=\"24px\"viewBox=\"0 0 24 24\"\n",
              "       width=\"24px\">\n",
              "    <path d=\"M0 0h24v24H0V0z\" fill=\"none\"/>\n",
              "    <path d=\"M18.56 5.44l.94 2.06.94-2.06 2.06-.94-2.06-.94-.94-2.06-.94 2.06-2.06.94zm-11 1L8.5 8.5l.94-2.06 2.06-.94-2.06-.94L8.5 2.5l-.94 2.06-2.06.94zm10 10l.94 2.06.94-2.06 2.06-.94-2.06-.94-.94-2.06-.94 2.06-2.06.94z\"/><path d=\"M17.41 7.96l-1.37-1.37c-.4-.4-.92-.59-1.43-.59-.52 0-1.04.2-1.43.59L10.3 9.45l-7.72 7.72c-.78.78-.78 2.05 0 2.83L4 21.41c.39.39.9.59 1.41.59.51 0 1.02-.2 1.41-.59l7.78-7.78 2.81-2.81c.8-.78.8-2.07 0-2.86zM5.41 20L4 18.59l7.72-7.72 1.47 1.35L5.41 20z\"/>\n",
              "  </svg>\n",
              "      </button>\n",
              "      \n",
              "  <style>\n",
              "    .colab-df-container {\n",
              "      display:flex;\n",
              "      flex-wrap:wrap;\n",
              "      gap: 12px;\n",
              "    }\n",
              "\n",
              "    .colab-df-convert {\n",
              "      background-color: #E8F0FE;\n",
              "      border: none;\n",
              "      border-radius: 50%;\n",
              "      cursor: pointer;\n",
              "      display: none;\n",
              "      fill: #1967D2;\n",
              "      height: 32px;\n",
              "      padding: 0 0 0 0;\n",
              "      width: 32px;\n",
              "    }\n",
              "\n",
              "    .colab-df-convert:hover {\n",
              "      background-color: #E2EBFA;\n",
              "      box-shadow: 0px 1px 2px rgba(60, 64, 67, 0.3), 0px 1px 3px 1px rgba(60, 64, 67, 0.15);\n",
              "      fill: #174EA6;\n",
              "    }\n",
              "\n",
              "    [theme=dark] .colab-df-convert {\n",
              "      background-color: #3B4455;\n",
              "      fill: #D2E3FC;\n",
              "    }\n",
              "\n",
              "    [theme=dark] .colab-df-convert:hover {\n",
              "      background-color: #434B5C;\n",
              "      box-shadow: 0px 1px 3px 1px rgba(0, 0, 0, 0.15);\n",
              "      filter: drop-shadow(0px 1px 2px rgba(0, 0, 0, 0.3));\n",
              "      fill: #FFFFFF;\n",
              "    }\n",
              "  </style>\n",
              "\n",
              "      <script>\n",
              "        const buttonEl =\n",
              "          document.querySelector('#df-0f5e40e2-d8fa-4b30-9c5c-fac52250e207 button.colab-df-convert');\n",
              "        buttonEl.style.display =\n",
              "          google.colab.kernel.accessAllowed ? 'block' : 'none';\n",
              "\n",
              "        async function convertToInteractive(key) {\n",
              "          const element = document.querySelector('#df-0f5e40e2-d8fa-4b30-9c5c-fac52250e207');\n",
              "          const dataTable =\n",
              "            await google.colab.kernel.invokeFunction('convertToInteractive',\n",
              "                                                     [key], {});\n",
              "          if (!dataTable) return;\n",
              "\n",
              "          const docLinkHtml = 'Like what you see? Visit the ' +\n",
              "            '<a target=\"_blank\" href=https://colab.research.google.com/notebooks/data_table.ipynb>data table notebook</a>'\n",
              "            + ' to learn more about interactive tables.';\n",
              "          element.innerHTML = '';\n",
              "          dataTable['output_type'] = 'display_data';\n",
              "          await google.colab.output.renderOutput(dataTable, element);\n",
              "          const docLink = document.createElement('div');\n",
              "          docLink.innerHTML = docLinkHtml;\n",
              "          element.appendChild(docLink);\n",
              "        }\n",
              "      </script>\n",
              "    </div>\n",
              "  </div>\n",
              "  "
            ]
          },
          "metadata": {},
          "execution_count": 11
        }
      ]
    },
    {
      "cell_type": "code",
      "source": [
        "df.drop(['checking_account', 'credit_history', 'credit_purpose', 'savings', 'current_employ', 'personal_status', 'guarantors', 'property', 'installment_plans', 'housing', 'job', 'tel', 'foreign_worker'], axis=\"columns\", inplace=True)\n",
        "df"
      ],
      "metadata": {
        "id": "8EEpXy9-0nYL",
        "colab": {
          "base_uri": "https://localhost:8080/",
          "height": 485
        },
        "outputId": "bfaeacc8-0af1-4497-f34c-c673c326d2bb"
      },
      "execution_count": null,
      "outputs": [
        {
          "output_type": "execute_result",
          "data": {
            "text/plain": [
              "     duration  amount  disposable_income  current_residence_years  age  \\\n",
              "0           6    1169                  4                        4   67   \n",
              "1          48    5951                  2                        2   22   \n",
              "2          12    2096                  2                        3   49   \n",
              "3          42    7882                  2                        4   45   \n",
              "4          24    4870                  3                        4   53   \n",
              "..        ...     ...                ...                      ...  ...   \n",
              "995        12    1736                  3                        4   31   \n",
              "996        30    3857                  4                        4   40   \n",
              "997        12     804                  4                        4   38   \n",
              "998        45    1845                  4                        4   23   \n",
              "999        45    4576                  3                        4   27   \n",
              "\n",
              "     existing_credits  people_liable target  ('0<=X<200',)  ('<0',)  ...  \\\n",
              "0                   2              1   good            0.0      1.0  ...   \n",
              "1                   1              1    bad            1.0      0.0  ...   \n",
              "2                   1              2   good            0.0      0.0  ...   \n",
              "3                   1              2   good            0.0      1.0  ...   \n",
              "4                   2              2    bad            0.0      1.0  ...   \n",
              "..                ...            ...    ...            ...      ...  ...   \n",
              "995                 1              1   good            0.0      0.0  ...   \n",
              "996                 1              1   good            0.0      1.0  ...   \n",
              "997                 1              1   good            0.0      0.0  ...   \n",
              "998                 1              1    bad            0.0      1.0  ...   \n",
              "999                 1              1   good            1.0      0.0  ...   \n",
              "\n",
              "     ('unskilled resident',)  (skilled,)  (none,)  (yes,)  (no,)  (yes,)  \\\n",
              "0                        0.0         1.0      0.0     1.0    0.0     1.0   \n",
              "1                        0.0         1.0      1.0     0.0    0.0     1.0   \n",
              "2                        1.0         0.0      1.0     0.0    0.0     1.0   \n",
              "3                        0.0         1.0      1.0     0.0    0.0     1.0   \n",
              "4                        0.0         1.0      1.0     0.0    0.0     1.0   \n",
              "..                       ...         ...      ...     ...    ...     ...   \n",
              "995                      1.0         0.0      1.0     0.0    0.0     1.0   \n",
              "996                      0.0         0.0      0.0     1.0    0.0     1.0   \n",
              "997                      0.0         1.0      1.0     0.0    0.0     1.0   \n",
              "998                      0.0         1.0      0.0     1.0    0.0     1.0   \n",
              "999                      0.0         1.0      1.0     0.0    0.0     1.0   \n",
              "\n",
              "     (none,)  (yes,)  (no,)  (yes,)  \n",
              "0        0.0     1.0    0.0     1.0  \n",
              "1        1.0     0.0    0.0     1.0  \n",
              "2        1.0     0.0    0.0     1.0  \n",
              "3        1.0     0.0    0.0     1.0  \n",
              "4        1.0     0.0    0.0     1.0  \n",
              "..       ...     ...    ...     ...  \n",
              "995      1.0     0.0    0.0     1.0  \n",
              "996      0.0     1.0    0.0     1.0  \n",
              "997      1.0     0.0    0.0     1.0  \n",
              "998      0.0     1.0    0.0     1.0  \n",
              "999      1.0     0.0    0.0     1.0  \n",
              "\n",
              "[1000 rows x 66 columns]"
            ],
            "text/html": [
              "\n",
              "  <div id=\"df-b184b4a0-7fe4-4c1d-a5d1-75e5f019fa4a\">\n",
              "    <div class=\"colab-df-container\">\n",
              "      <div>\n",
              "<style scoped>\n",
              "    .dataframe tbody tr th:only-of-type {\n",
              "        vertical-align: middle;\n",
              "    }\n",
              "\n",
              "    .dataframe tbody tr th {\n",
              "        vertical-align: top;\n",
              "    }\n",
              "\n",
              "    .dataframe thead th {\n",
              "        text-align: right;\n",
              "    }\n",
              "</style>\n",
              "<table border=\"1\" class=\"dataframe\">\n",
              "  <thead>\n",
              "    <tr style=\"text-align: right;\">\n",
              "      <th></th>\n",
              "      <th>duration</th>\n",
              "      <th>amount</th>\n",
              "      <th>disposable_income</th>\n",
              "      <th>current_residence_years</th>\n",
              "      <th>age</th>\n",
              "      <th>existing_credits</th>\n",
              "      <th>people_liable</th>\n",
              "      <th>target</th>\n",
              "      <th>('0&lt;=X&lt;200',)</th>\n",
              "      <th>('&lt;0',)</th>\n",
              "      <th>...</th>\n",
              "      <th>('unskilled resident',)</th>\n",
              "      <th>(skilled,)</th>\n",
              "      <th>(none,)</th>\n",
              "      <th>(yes,)</th>\n",
              "      <th>(no,)</th>\n",
              "      <th>(yes,)</th>\n",
              "      <th>(none,)</th>\n",
              "      <th>(yes,)</th>\n",
              "      <th>(no,)</th>\n",
              "      <th>(yes,)</th>\n",
              "    </tr>\n",
              "  </thead>\n",
              "  <tbody>\n",
              "    <tr>\n",
              "      <th>0</th>\n",
              "      <td>6</td>\n",
              "      <td>1169</td>\n",
              "      <td>4</td>\n",
              "      <td>4</td>\n",
              "      <td>67</td>\n",
              "      <td>2</td>\n",
              "      <td>1</td>\n",
              "      <td>good</td>\n",
              "      <td>0.0</td>\n",
              "      <td>1.0</td>\n",
              "      <td>...</td>\n",
              "      <td>0.0</td>\n",
              "      <td>1.0</td>\n",
              "      <td>0.0</td>\n",
              "      <td>1.0</td>\n",
              "      <td>0.0</td>\n",
              "      <td>1.0</td>\n",
              "      <td>0.0</td>\n",
              "      <td>1.0</td>\n",
              "      <td>0.0</td>\n",
              "      <td>1.0</td>\n",
              "    </tr>\n",
              "    <tr>\n",
              "      <th>1</th>\n",
              "      <td>48</td>\n",
              "      <td>5951</td>\n",
              "      <td>2</td>\n",
              "      <td>2</td>\n",
              "      <td>22</td>\n",
              "      <td>1</td>\n",
              "      <td>1</td>\n",
              "      <td>bad</td>\n",
              "      <td>1.0</td>\n",
              "      <td>0.0</td>\n",
              "      <td>...</td>\n",
              "      <td>0.0</td>\n",
              "      <td>1.0</td>\n",
              "      <td>1.0</td>\n",
              "      <td>0.0</td>\n",
              "      <td>0.0</td>\n",
              "      <td>1.0</td>\n",
              "      <td>1.0</td>\n",
              "      <td>0.0</td>\n",
              "      <td>0.0</td>\n",
              "      <td>1.0</td>\n",
              "    </tr>\n",
              "    <tr>\n",
              "      <th>2</th>\n",
              "      <td>12</td>\n",
              "      <td>2096</td>\n",
              "      <td>2</td>\n",
              "      <td>3</td>\n",
              "      <td>49</td>\n",
              "      <td>1</td>\n",
              "      <td>2</td>\n",
              "      <td>good</td>\n",
              "      <td>0.0</td>\n",
              "      <td>0.0</td>\n",
              "      <td>...</td>\n",
              "      <td>1.0</td>\n",
              "      <td>0.0</td>\n",
              "      <td>1.0</td>\n",
              "      <td>0.0</td>\n",
              "      <td>0.0</td>\n",
              "      <td>1.0</td>\n",
              "      <td>1.0</td>\n",
              "      <td>0.0</td>\n",
              "      <td>0.0</td>\n",
              "      <td>1.0</td>\n",
              "    </tr>\n",
              "    <tr>\n",
              "      <th>3</th>\n",
              "      <td>42</td>\n",
              "      <td>7882</td>\n",
              "      <td>2</td>\n",
              "      <td>4</td>\n",
              "      <td>45</td>\n",
              "      <td>1</td>\n",
              "      <td>2</td>\n",
              "      <td>good</td>\n",
              "      <td>0.0</td>\n",
              "      <td>1.0</td>\n",
              "      <td>...</td>\n",
              "      <td>0.0</td>\n",
              "      <td>1.0</td>\n",
              "      <td>1.0</td>\n",
              "      <td>0.0</td>\n",
              "      <td>0.0</td>\n",
              "      <td>1.0</td>\n",
              "      <td>1.0</td>\n",
              "      <td>0.0</td>\n",
              "      <td>0.0</td>\n",
              "      <td>1.0</td>\n",
              "    </tr>\n",
              "    <tr>\n",
              "      <th>4</th>\n",
              "      <td>24</td>\n",
              "      <td>4870</td>\n",
              "      <td>3</td>\n",
              "      <td>4</td>\n",
              "      <td>53</td>\n",
              "      <td>2</td>\n",
              "      <td>2</td>\n",
              "      <td>bad</td>\n",
              "      <td>0.0</td>\n",
              "      <td>1.0</td>\n",
              "      <td>...</td>\n",
              "      <td>0.0</td>\n",
              "      <td>1.0</td>\n",
              "      <td>1.0</td>\n",
              "      <td>0.0</td>\n",
              "      <td>0.0</td>\n",
              "      <td>1.0</td>\n",
              "      <td>1.0</td>\n",
              "      <td>0.0</td>\n",
              "      <td>0.0</td>\n",
              "      <td>1.0</td>\n",
              "    </tr>\n",
              "    <tr>\n",
              "      <th>...</th>\n",
              "      <td>...</td>\n",
              "      <td>...</td>\n",
              "      <td>...</td>\n",
              "      <td>...</td>\n",
              "      <td>...</td>\n",
              "      <td>...</td>\n",
              "      <td>...</td>\n",
              "      <td>...</td>\n",
              "      <td>...</td>\n",
              "      <td>...</td>\n",
              "      <td>...</td>\n",
              "      <td>...</td>\n",
              "      <td>...</td>\n",
              "      <td>...</td>\n",
              "      <td>...</td>\n",
              "      <td>...</td>\n",
              "      <td>...</td>\n",
              "      <td>...</td>\n",
              "      <td>...</td>\n",
              "      <td>...</td>\n",
              "      <td>...</td>\n",
              "    </tr>\n",
              "    <tr>\n",
              "      <th>995</th>\n",
              "      <td>12</td>\n",
              "      <td>1736</td>\n",
              "      <td>3</td>\n",
              "      <td>4</td>\n",
              "      <td>31</td>\n",
              "      <td>1</td>\n",
              "      <td>1</td>\n",
              "      <td>good</td>\n",
              "      <td>0.0</td>\n",
              "      <td>0.0</td>\n",
              "      <td>...</td>\n",
              "      <td>1.0</td>\n",
              "      <td>0.0</td>\n",
              "      <td>1.0</td>\n",
              "      <td>0.0</td>\n",
              "      <td>0.0</td>\n",
              "      <td>1.0</td>\n",
              "      <td>1.0</td>\n",
              "      <td>0.0</td>\n",
              "      <td>0.0</td>\n",
              "      <td>1.0</td>\n",
              "    </tr>\n",
              "    <tr>\n",
              "      <th>996</th>\n",
              "      <td>30</td>\n",
              "      <td>3857</td>\n",
              "      <td>4</td>\n",
              "      <td>4</td>\n",
              "      <td>40</td>\n",
              "      <td>1</td>\n",
              "      <td>1</td>\n",
              "      <td>good</td>\n",
              "      <td>0.0</td>\n",
              "      <td>1.0</td>\n",
              "      <td>...</td>\n",
              "      <td>0.0</td>\n",
              "      <td>0.0</td>\n",
              "      <td>0.0</td>\n",
              "      <td>1.0</td>\n",
              "      <td>0.0</td>\n",
              "      <td>1.0</td>\n",
              "      <td>0.0</td>\n",
              "      <td>1.0</td>\n",
              "      <td>0.0</td>\n",
              "      <td>1.0</td>\n",
              "    </tr>\n",
              "    <tr>\n",
              "      <th>997</th>\n",
              "      <td>12</td>\n",
              "      <td>804</td>\n",
              "      <td>4</td>\n",
              "      <td>4</td>\n",
              "      <td>38</td>\n",
              "      <td>1</td>\n",
              "      <td>1</td>\n",
              "      <td>good</td>\n",
              "      <td>0.0</td>\n",
              "      <td>0.0</td>\n",
              "      <td>...</td>\n",
              "      <td>0.0</td>\n",
              "      <td>1.0</td>\n",
              "      <td>1.0</td>\n",
              "      <td>0.0</td>\n",
              "      <td>0.0</td>\n",
              "      <td>1.0</td>\n",
              "      <td>1.0</td>\n",
              "      <td>0.0</td>\n",
              "      <td>0.0</td>\n",
              "      <td>1.0</td>\n",
              "    </tr>\n",
              "    <tr>\n",
              "      <th>998</th>\n",
              "      <td>45</td>\n",
              "      <td>1845</td>\n",
              "      <td>4</td>\n",
              "      <td>4</td>\n",
              "      <td>23</td>\n",
              "      <td>1</td>\n",
              "      <td>1</td>\n",
              "      <td>bad</td>\n",
              "      <td>0.0</td>\n",
              "      <td>1.0</td>\n",
              "      <td>...</td>\n",
              "      <td>0.0</td>\n",
              "      <td>1.0</td>\n",
              "      <td>0.0</td>\n",
              "      <td>1.0</td>\n",
              "      <td>0.0</td>\n",
              "      <td>1.0</td>\n",
              "      <td>0.0</td>\n",
              "      <td>1.0</td>\n",
              "      <td>0.0</td>\n",
              "      <td>1.0</td>\n",
              "    </tr>\n",
              "    <tr>\n",
              "      <th>999</th>\n",
              "      <td>45</td>\n",
              "      <td>4576</td>\n",
              "      <td>3</td>\n",
              "      <td>4</td>\n",
              "      <td>27</td>\n",
              "      <td>1</td>\n",
              "      <td>1</td>\n",
              "      <td>good</td>\n",
              "      <td>1.0</td>\n",
              "      <td>0.0</td>\n",
              "      <td>...</td>\n",
              "      <td>0.0</td>\n",
              "      <td>1.0</td>\n",
              "      <td>1.0</td>\n",
              "      <td>0.0</td>\n",
              "      <td>0.0</td>\n",
              "      <td>1.0</td>\n",
              "      <td>1.0</td>\n",
              "      <td>0.0</td>\n",
              "      <td>0.0</td>\n",
              "      <td>1.0</td>\n",
              "    </tr>\n",
              "  </tbody>\n",
              "</table>\n",
              "<p>1000 rows × 66 columns</p>\n",
              "</div>\n",
              "      <button class=\"colab-df-convert\" onclick=\"convertToInteractive('df-b184b4a0-7fe4-4c1d-a5d1-75e5f019fa4a')\"\n",
              "              title=\"Convert this dataframe to an interactive table.\"\n",
              "              style=\"display:none;\">\n",
              "        \n",
              "  <svg xmlns=\"http://www.w3.org/2000/svg\" height=\"24px\"viewBox=\"0 0 24 24\"\n",
              "       width=\"24px\">\n",
              "    <path d=\"M0 0h24v24H0V0z\" fill=\"none\"/>\n",
              "    <path d=\"M18.56 5.44l.94 2.06.94-2.06 2.06-.94-2.06-.94-.94-2.06-.94 2.06-2.06.94zm-11 1L8.5 8.5l.94-2.06 2.06-.94-2.06-.94L8.5 2.5l-.94 2.06-2.06.94zm10 10l.94 2.06.94-2.06 2.06-.94-2.06-.94-.94-2.06-.94 2.06-2.06.94z\"/><path d=\"M17.41 7.96l-1.37-1.37c-.4-.4-.92-.59-1.43-.59-.52 0-1.04.2-1.43.59L10.3 9.45l-7.72 7.72c-.78.78-.78 2.05 0 2.83L4 21.41c.39.39.9.59 1.41.59.51 0 1.02-.2 1.41-.59l7.78-7.78 2.81-2.81c.8-.78.8-2.07 0-2.86zM5.41 20L4 18.59l7.72-7.72 1.47 1.35L5.41 20z\"/>\n",
              "  </svg>\n",
              "      </button>\n",
              "      \n",
              "  <style>\n",
              "    .colab-df-container {\n",
              "      display:flex;\n",
              "      flex-wrap:wrap;\n",
              "      gap: 12px;\n",
              "    }\n",
              "\n",
              "    .colab-df-convert {\n",
              "      background-color: #E8F0FE;\n",
              "      border: none;\n",
              "      border-radius: 50%;\n",
              "      cursor: pointer;\n",
              "      display: none;\n",
              "      fill: #1967D2;\n",
              "      height: 32px;\n",
              "      padding: 0 0 0 0;\n",
              "      width: 32px;\n",
              "    }\n",
              "\n",
              "    .colab-df-convert:hover {\n",
              "      background-color: #E2EBFA;\n",
              "      box-shadow: 0px 1px 2px rgba(60, 64, 67, 0.3), 0px 1px 3px 1px rgba(60, 64, 67, 0.15);\n",
              "      fill: #174EA6;\n",
              "    }\n",
              "\n",
              "    [theme=dark] .colab-df-convert {\n",
              "      background-color: #3B4455;\n",
              "      fill: #D2E3FC;\n",
              "    }\n",
              "\n",
              "    [theme=dark] .colab-df-convert:hover {\n",
              "      background-color: #434B5C;\n",
              "      box-shadow: 0px 1px 3px 1px rgba(0, 0, 0, 0.15);\n",
              "      filter: drop-shadow(0px 1px 2px rgba(0, 0, 0, 0.3));\n",
              "      fill: #FFFFFF;\n",
              "    }\n",
              "  </style>\n",
              "\n",
              "      <script>\n",
              "        const buttonEl =\n",
              "          document.querySelector('#df-b184b4a0-7fe4-4c1d-a5d1-75e5f019fa4a button.colab-df-convert');\n",
              "        buttonEl.style.display =\n",
              "          google.colab.kernel.accessAllowed ? 'block' : 'none';\n",
              "\n",
              "        async function convertToInteractive(key) {\n",
              "          const element = document.querySelector('#df-b184b4a0-7fe4-4c1d-a5d1-75e5f019fa4a');\n",
              "          const dataTable =\n",
              "            await google.colab.kernel.invokeFunction('convertToInteractive',\n",
              "                                                     [key], {});\n",
              "          if (!dataTable) return;\n",
              "\n",
              "          const docLinkHtml = 'Like what you see? Visit the ' +\n",
              "            '<a target=\"_blank\" href=https://colab.research.google.com/notebooks/data_table.ipynb>data table notebook</a>'\n",
              "            + ' to learn more about interactive tables.';\n",
              "          element.innerHTML = '';\n",
              "          dataTable['output_type'] = 'display_data';\n",
              "          await google.colab.output.renderOutput(dataTable, element);\n",
              "          const docLink = document.createElement('div');\n",
              "          docLink.innerHTML = docLinkHtml;\n",
              "          element.appendChild(docLink);\n",
              "        }\n",
              "      </script>\n",
              "    </div>\n",
              "  </div>\n",
              "  "
            ]
          },
          "metadata": {},
          "execution_count": 12
        }
      ]
    },
    {
      "cell_type": "code",
      "source": [
        "df.drop(['target'], axis=\"columns\", inplace=True)"
      ],
      "metadata": {
        "id": "UvaBM1gA4ULR"
      },
      "execution_count": null,
      "outputs": []
    },
    {
      "cell_type": "markdown",
      "source": [
        "Posterior codificar las variables nominales en valores de prescencia con OneHot, se eleiminan las columnas categoricas y se agregan los nuevos valores al dataset. Y finalmente se busca de un parametro de análisis para los datos."
      ],
      "metadata": {
        "id": "PitAax4esn0P"
      }
    },
    {
      "cell_type": "markdown",
      "source": [
        "##Normalizar los datos para trabajar"
      ],
      "metadata": {
        "id": "BP4LI0iZ4bRR"
      }
    },
    {
      "cell_type": "markdown",
      "source": [
        "Una vez realizado el análisis de los tipos de variables unicas corroborando que no hayan valores de filas duplicados, se procede a normalizar los elementos para seguir"
      ],
      "metadata": {
        "id": "ryW2Mwk2mUxE"
      }
    },
    {
      "cell_type": "code",
      "source": [
        "#Separamos y recopilamos los datos del dataset\n",
        "x=df.iloc[:,:]\n",
        "y=target_new\n",
        "#Normalizamos los datos\n",
        "scaler1 = MinMaxScaler(feature_range=(0, 1))\n",
        "scaler1.fit(x)\n",
        "xnorm=scaler1.transform(x)\n",
        "xnorm = np.array(xnorm)\n",
        "\n",
        "#Ajustamos los datos de entrenamiento y de testeo\n",
        "xtrain, xtest, ytrain, ytest = train_test_split(xnorm, y, test_size=0.3, random_state=0)\n",
        "print(x.shape,y.shape)\n",
        "print(xnorm.shape,y.shape)\n"
      ],
      "metadata": {
        "colab": {
          "base_uri": "https://localhost:8080/"
        },
        "id": "z7cZPKDyvIVD",
        "outputId": "3b9e760c-6d57-48ed-c624-a2867861e3fd"
      },
      "execution_count": null,
      "outputs": [
        {
          "output_type": "stream",
          "name": "stdout",
          "text": [
            "(1000, 65) (1000, 1)\n",
            "(1000, 65) (1000, 1)\n"
          ]
        },
        {
          "output_type": "stream",
          "name": "stderr",
          "text": [
            "/usr/local/lib/python3.7/dist-packages/sklearn/utils/validation.py:1692: FutureWarning: Feature names only support names that are all strings. Got feature names with dtypes: ['str', 'tuple']. An error will be raised in 1.2.\n",
            "  FutureWarning,\n",
            "/usr/local/lib/python3.7/dist-packages/sklearn/utils/validation.py:1692: FutureWarning: Feature names only support names that are all strings. Got feature names with dtypes: ['str', 'tuple']. An error will be raised in 1.2.\n",
            "  FutureWarning,\n"
          ]
        }
      ]
    },
    {
      "cell_type": "markdown",
      "source": [
        "##Tratamiento de datos"
      ],
      "metadata": {
        "id": "An89wWxjsXsc"
      }
    },
    {
      "cell_type": "markdown",
      "source": [
        "###Metodo 1"
      ],
      "metadata": {
        "id": "etBsBhB_sb2E"
      }
    },
    {
      "cell_type": "markdown",
      "source": [
        "En este metodo se usará la implementación del modelo de regresión logistica para clasificación."
      ],
      "metadata": {
        "id": "5R980nZXI4Y-"
      }
    },
    {
      "cell_type": "code",
      "source": [
        "classifier= LogisticRegression(random_state=0).fit(xtrain, ytrain)"
      ],
      "metadata": {
        "colab": {
          "base_uri": "https://localhost:8080/"
        },
        "id": "RcBkI2kHET97",
        "outputId": "f3240922-69a0-4b07-9b61-e7db65b99255"
      },
      "execution_count": null,
      "outputs": [
        {
          "output_type": "stream",
          "name": "stderr",
          "text": [
            "/usr/local/lib/python3.7/dist-packages/sklearn/utils/validation.py:993: DataConversionWarning: A column-vector y was passed when a 1d array was expected. Please change the shape of y to (n_samples, ), for example using ravel().\n",
            "  y = column_or_1d(y, warn=True)\n"
          ]
        }
      ]
    },
    {
      "cell_type": "code",
      "source": [
        "predict1 = classifier.predict(xtest)\n",
        "\n",
        "print(predict1)\n",
        "print(ytest.T)\n",
        "print(\"El accuracy presente en el modelo es\",accuracy_score(ytest,predict1))\n",
        "print(\"El error presente en el modelo es\",mean_squared_error(ytest,predict1))\n",
        "print(\"La precisión presente en el modelo es\",precision_score(ytest,predict1))"
      ],
      "metadata": {
        "colab": {
          "base_uri": "https://localhost:8080/"
        },
        "id": "CRNDXTJLR_u3",
        "outputId": "35d5b38c-2a54-4cc2-ab3e-27433d07c4ef"
      },
      "execution_count": null,
      "outputs": [
        {
          "output_type": "stream",
          "name": "stdout",
          "text": [
            "[0 1 1 1 0 1 1 1 1 0 0 0 1 1 0 1 1 1 0 1 0 0 1 1 1 0 1 1 1 1 1 1 1 1 1 0 1\n",
            " 1 1 1 1 1 1 1 1 0 1 0 1 1 1 0 0 1 1 1 0 1 1 1 0 1 0 1 1 1 1 0 0 1 1 1 0 1\n",
            " 0 1 1 1 1 1 0 0 1 1 1 1 1 1 1 0 1 1 1 1 1 1 1 1 0 1 1 1 1 1 1 1 0 0 0 1 1\n",
            " 0 0 1 1 1 1 1 1 1 1 1 1 0 1 1 1 1 1 1 1 0 0 1 1 0 1 1 1 0 0 0 1 1 1 1 1 0\n",
            " 0 1 1 1 1 1 1 1 1 1 1 1 1 0 1 1 0 0 0 1 1 1 0 1 0 1 1 0 0 1 1 1 1 1 1 0 1\n",
            " 0 1 0 1 1 1 0 1 1 1 1 0 1 0 1 0 0 0 0 1 1 0 1 1 1 1 0 1 1 1 1 1 0 1 1 0 1\n",
            " 0 1 1 1 1 0 1 1 1 1 1 1 0 0 1 1 1 0 1 1 1 1 1 0 1 1 1 1 1 1 1 1 1 1 0 1 1\n",
            " 1 0 1 1 1 0 0 0 0 1 0 0 1 1 1 1 1 1 1 1 1 1 1 1 1 0 1 1 1 1 1 0 1 0 1 1 1\n",
            " 0 1 0 0]\n",
            "[[1 1 1 1 1 1 1 1 1 0 0 0 1 1 0 1 1 0 1 1 1 1 1 1 1 0 1 1 1 0 1 1 0 0 1 0\n",
            "  1 1 0 1 0 1 1 1 1 0 0 1 1 1 0 0 1 1 0 1 1 1 1 1 0 1 1 1 1 1 1 0 0 1 1 1\n",
            "  1 1 1 0 1 0 0 1 1 1 1 1 1 1 0 1 1 1 1 1 1 1 1 0 1 1 1 1 1 1 1 1 1 1 1 0\n",
            "  0 1 1 0 0 1 1 1 0 1 1 1 0 1 1 0 1 1 1 1 1 1 0 1 0 1 1 0 1 1 1 1 1 1 1 0\n",
            "  0 0 1 1 0 1 1 1 1 0 1 1 0 1 1 1 0 1 1 0 0 0 0 1 0 1 1 1 1 0 1 0 0 0 1 1\n",
            "  1 1 1 0 1 0 1 1 1 1 0 0 0 1 1 1 0 1 0 1 1 0 0 0 1 1 0 1 1 1 0 1 0 1 1 1\n",
            "  1 1 1 0 0 1 1 1 1 1 1 0 0 1 1 0 0 1 0 1 1 1 1 0 0 1 1 0 1 1 1 1 1 1 1 1\n",
            "  1 1 1 1 1 1 1 1 1 1 1 1 1 0 1 0 1 0 0 0 1 1 1 1 1 1 0 0 1 1 1 1 0 1 1 1\n",
            "  1 1 1 1 1 1 0 1 0 1 0 0]]\n",
            "El accuracy presente en el modelo es 0.74\n",
            "El error presente en el modelo es 0.26\n",
            "La precisión presente en el modelo es 0.8119266055045872\n"
          ]
        }
      ]
    },
    {
      "cell_type": "code",
      "source": [
        "fig, axs = plt.subplots(figsize=(20,6))\n",
        "\n",
        "axs.plot(predict1,'.', label='Prediccion')\n",
        "axs.plot(ytest,'.', label='Validacion')\n",
        "axs.legend(loc='lower right')"
      ],
      "metadata": {
        "colab": {
          "base_uri": "https://localhost:8080/",
          "height": 391
        },
        "id": "lqpgXYv1Tfz1",
        "outputId": "4807ba5b-7880-4e04-a033-a36d25bdeb9b"
      },
      "execution_count": null,
      "outputs": [
        {
          "output_type": "execute_result",
          "data": {
            "text/plain": [
              "<matplotlib.legend.Legend at 0x7ff3e1611550>"
            ]
          },
          "metadata": {},
          "execution_count": 17
        },
        {
          "output_type": "display_data",
          "data": {
            "text/plain": [
              "<Figure size 1440x432 with 1 Axes>"
            ],
            "image/png": "[encoded data removed]"
          },
          "metadata": {
            "needs_background": "light"
          }
        }
      ]
    },
    {
      "cell_type": "markdown",
      "source": [
        "####Matriz de confusión"
      ],
      "metadata": {
        "id": "c2RwnwQ4VrDG"
      }
    },
    {
      "cell_type": "code",
      "source": [
        "a=confusion_matrix(ytest, predict1)\n",
        "group_names = ['True Neg','False Pos', 'False Neg', 'True Pos']\n",
        "group_counts = [\"{0:0.0f}\".format(value) for value in\n",
        "                a.flatten()]\n",
        "group_percentages = [\"{0:.2%}\".format(value) for value in\n",
        "                     a.flatten()/np.sum(a)]\n",
        "labels = [f\"{v1}\\n{v2}\\n{v3}\" for v1, v2, v3 in\n",
        "          zip(group_names,group_counts,group_percentages)]\n",
        "labels = np.asarray(labels).reshape(2,2)\n",
        "\n",
        "sns.heatmap(a, annot=labels, fmt='', cmap='Blues')"
      ],
      "metadata": {
        "colab": {
          "base_uri": "https://localhost:8080/",
          "height": 282
        },
        "id": "8D0nrG7uVvOZ",
        "outputId": "42d469a3-3125-482e-c3a6-0c42adaf8d67"
      },
      "execution_count": null,
      "outputs": [
        {
          "output_type": "execute_result",
          "data": {
            "text/plain": [
              "<matplotlib.axes._subplots.AxesSubplot at 0x7ff3e15a9ad0>"
            ]
          },
          "metadata": {},
          "execution_count": 18
        },
        {
          "output_type": "display_data",
          "data": {
            "text/plain": [
              "<Figure size 432x288 with 2 Axes>"
            ],
            "image/png": "[encoded data removed]"
          },
          "metadata": {
            "needs_background": "light"
          }
        }
      ]
    },
    {
      "cell_type": "markdown",
      "source": [
        "Entendiendose que esta matriz se puede leer de la siguiente manera"
      ],
      "metadata": {
        "id": "gYp9Tlhdd6Mh"
      }
    },
    {
      "cell_type": "markdown",
      "source": [
        "![image.png](data:image/png;base64,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)"
      ],
      "metadata": {
        "id": "evEPocUad3EJ"
      }
    },
    {
      "cell_type": "markdown",
      "source": [
        "Finalizamos el modelo con un reporte de las metricas de la matriz de confusión"
      ],
      "metadata": {
        "id": "JQuGYo0QeAZz"
      }
    },
    {
      "cell_type": "code",
      "source": [
        "print(classification_report(ytest, predict1))"
      ],
      "metadata": {
        "colab": {
          "base_uri": "https://localhost:8080/"
        },
        "id": "EJ3GCjapc6mA",
        "outputId": "0faf4a85-a7b5-4a6e-a9c2-b52d45fe78bb"
      },
      "execution_count": null,
      "outputs": [
        {
          "output_type": "stream",
          "name": "stdout",
          "text": [
            "              precision    recall  f1-score   support\n",
            "\n",
            "           0       0.55      0.52      0.54        86\n",
            "           1       0.81      0.83      0.82       214\n",
            "\n",
            "    accuracy                           0.74       300\n",
            "   macro avg       0.68      0.68      0.68       300\n",
            "weighted avg       0.74      0.74      0.74       300\n",
            "\n"
          ]
        }
      ]
    },
    {
      "cell_type": "markdown",
      "source": [
        "###Metodo 2"
      ],
      "metadata": {
        "id": "--igLn7LsfME"
      }
    },
    {
      "cell_type": "markdown",
      "source": [
        "Estructura de clasificación por medio de arbol de decisión"
      ],
      "metadata": {
        "id": "-170-DQ4hpzv"
      }
    },
    {
      "cell_type": "code",
      "source": [
        "tree = DecisionTreeClassifier(random_state=0)\n",
        "tree.fit(xtrain, ytrain)\n",
        "print(\"Accuracy on training set: {:.3f}\".format(tree.score(xtrain, ytrain)))\n",
        "print(\"Accuracy on test set: {:.3f}\".format(tree.score(xtest, ytest)))"
      ],
      "metadata": {
        "colab": {
          "base_uri": "https://localhost:8080/"
        },
        "id": "CbEmjYPSEUjD",
        "outputId": "8d123b73-58b9-4c96-9376-50b79e3c63cc"
      },
      "execution_count": null,
      "outputs": [
        {
          "output_type": "stream",
          "name": "stdout",
          "text": [
            "Accuracy on training set: 1.000\n",
            "Accuracy on test set: 0.713\n"
          ]
        }
      ]
    },
    {
      "cell_type": "code",
      "source": [
        "predict2 = tree.predict(xtest)\n",
        "print(predict2)\n",
        "print(ytest.T)\n",
        "print(\"El accuracy presente en el modelo es\",accuracy_score(ytest,predict2))\n",
        "print(\"El error presente en el modelo es\",mean_squared_error(ytest,predict2))\n",
        "print(\"La precisión presente en el modelo es\",precision_score(ytest,predict2))\n"
      ],
      "metadata": {
        "colab": {
          "base_uri": "https://localhost:8080/"
        },
        "id": "UYBPiyb7iRRI",
        "outputId": "ea139be2-929e-42af-f15a-9734de9ca1c7"
      },
      "execution_count": null,
      "outputs": [
        {
          "output_type": "stream",
          "name": "stdout",
          "text": [
            "[0 0 1 0 1 1 0 1 1 0 1 0 1 0 0 0 1 1 1 1 0 0 1 1 1 0 1 1 1 0 1 0 0 0 1 0 1\n",
            " 1 1 1 1 1 1 1 1 1 0 1 1 1 1 0 0 0 0 0 1 1 1 1 0 1 0 1 1 1 1 1 1 1 1 1 1 0\n",
            " 1 0 1 1 0 1 0 1 1 1 1 1 0 1 1 1 1 1 0 1 1 1 1 0 0 1 0 1 0 1 1 1 0 0 1 1 1\n",
            " 1 1 1 1 1 0 0 0 0 1 1 1 1 1 1 1 1 1 1 1 0 0 1 1 0 0 1 1 0 1 1 1 1 1 0 1 0\n",
            " 1 1 1 1 1 1 1 1 1 0 1 1 1 1 1 1 0 0 0 1 1 0 1 1 0 0 1 0 0 0 0 1 1 1 0 0 1\n",
            " 1 1 0 1 1 1 0 1 1 1 1 1 0 0 0 1 0 0 0 1 1 0 1 1 1 0 1 1 1 1 1 1 1 0 0 0 0\n",
            " 1 1 1 1 1 0 0 1 1 1 0 1 1 0 1 1 0 0 1 1 1 1 0 1 1 1 1 1 1 1 1 1 1 1 0 1 1\n",
            " 1 1 0 1 0 1 1 1 0 0 1 1 0 1 1 0 1 0 1 0 0 1 1 1 1 1 0 1 1 1 1 1 1 1 1 1 1\n",
            " 0 1 0 0]\n",
            "[[1 1 1 1 1 1 1 1 1 0 0 0 1 1 0 1 1 0 1 1 1 1 1 1 1 0 1 1 1 0 1 1 0 0 1 0\n",
            "  1 1 0 1 0 1 1 1 1 0 0 1 1 1 0 0 1 1 0 1 1 1 1 1 0 1 1 1 1 1 1 0 0 1 1 1\n",
            "  1 1 1 0 1 0 0 1 1 1 1 1 1 1 0 1 1 1 1 1 1 1 1 0 1 1 1 1 1 1 1 1 1 1 1 0\n",
            "  0 1 1 0 0 1 1 1 0 1 1 1 0 1 1 0 1 1 1 1 1 1 0 1 0 1 1 0 1 1 1 1 1 1 1 0\n",
            "  0 0 1 1 0 1 1 1 1 0 1 1 0 1 1 1 0 1 1 0 0 0 0 1 0 1 1 1 1 0 1 0 0 0 1 1\n",
            "  1 1 1 0 1 0 1 1 1 1 0 0 0 1 1 1 0 1 0 1 1 0 0 0 1 1 0 1 1 1 0 1 0 1 1 1\n",
            "  1 1 1 0 0 1 1 1 1 1 1 0 0 1 1 0 0 1 0 1 1 1 1 0 0 1 1 0 1 1 1 1 1 1 1 1\n",
            "  1 1 1 1 1 1 1 1 1 1 1 1 1 0 1 0 1 0 0 0 1 1 1 1 1 1 0 0 1 1 1 1 0 1 1 1\n",
            "  1 1 1 1 1 1 0 1 0 1 0 0]]\n",
            "El accuracy presente en el modelo es 0.7133333333333334\n",
            "El error presente en el modelo es 0.2866666666666667\n",
            "La precisión presente en el modelo es 0.8137254901960784\n"
          ]
        }
      ]
    },
    {
      "cell_type": "code",
      "source": [
        "fig, axs = plt.subplots(figsize=(20,6))\n",
        "\n",
        "axs.plot(predict2,'.', label='Prediccion')\n",
        "axs.plot(ytest,'.', label='Validacion')\n",
        "axs.legend(loc='lower right')"
      ],
      "metadata": {
        "colab": {
          "base_uri": "https://localhost:8080/",
          "height": 391
        },
        "id": "jCrITZFwmTAv",
        "outputId": "268e4b45-74a7-487c-c7a0-7884873e1fa0"
      },
      "execution_count": null,
      "outputs": [
        {
          "output_type": "execute_result",
          "data": {
            "text/plain": [
              "<matplotlib.legend.Legend at 0x7ff3e10a6310>"
            ]
          },
          "metadata": {},
          "execution_count": 22
        },
        {
          "output_type": "display_data",
          "data": {
            "text/plain": [
              "<Figure size 1440x432 with 1 Axes>"
            ],
            "image/png": "[encoded data removed]"
          },
          "metadata": {
            "needs_background": "light"
          }
        }
      ]
    },
    {
      "cell_type": "markdown",
      "source": [
        "####Matriz de confusión"
      ],
      "metadata": {
        "id": "Caw2HZV0Ds2s"
      }
    },
    {
      "cell_type": "code",
      "source": [
        "b=confusion_matrix(ytest, predict2)\n",
        "group_names = ['True Neg','False Pos', 'False Neg', 'True Pos']\n",
        "group_counts = [\"{0:0.0f}\".format(value) for value in\n",
        "                b.flatten()]\n",
        "group_percentages = [\"{0:.2%}\".format(value) for value in\n",
        "                     b.flatten()/np.sum(a)]\n",
        "labels = [f\"{v1}\\n{v2}\\n{v3}\" for v1, v2, v3 in\n",
        "          zip(group_names,group_counts,group_percentages)]\n",
        "labels = np.asarray(labels).reshape(2,2)\n",
        "\n",
        "sns.heatmap(b, annot=labels, fmt='', cmap='Blues')"
      ],
      "metadata": {
        "colab": {
          "base_uri": "https://localhost:8080/",
          "height": 282
        },
        "id": "U07CBdP2mbzR",
        "outputId": "f42a9c4b-f2af-4d0c-ab78-9c7aef218827"
      },
      "execution_count": null,
      "outputs": [
        {
          "output_type": "execute_result",
          "data": {
            "text/plain": [
              "<matplotlib.axes._subplots.AxesSubplot at 0x7ff3e101fbd0>"
            ]
          },
          "metadata": {},
          "execution_count": 23
        },
        {
          "output_type": "display_data",
          "data": {
            "text/plain": [
              "<Figure size 432x288 with 2 Axes>"
            ],
            "image/png": "[encoded data removed]"
          },
          "metadata": {
            "needs_background": "light"
          }
        }
      ]
    },
    {
      "cell_type": "code",
      "source": [
        "print(classification_report(ytest, predict2))"
      ],
      "metadata": {
        "colab": {
          "base_uri": "https://localhost:8080/"
        },
        "id": "GwSojzUb9ueb",
        "outputId": "1a10c6f3-a7ce-4569-d2f1-877f563b3b2c"
      },
      "execution_count": null,
      "outputs": [
        {
          "output_type": "stream",
          "name": "stdout",
          "text": [
            "              precision    recall  f1-score   support\n",
            "\n",
            "           0       0.50      0.56      0.53        86\n",
            "           1       0.81      0.78      0.79       214\n",
            "\n",
            "    accuracy                           0.71       300\n",
            "   macro avg       0.66      0.67      0.66       300\n",
            "weighted avg       0.72      0.71      0.72       300\n",
            "\n"
          ]
        }
      ]
    },
    {
      "cell_type": "markdown",
      "source": [
        "###Metodo 3"
      ],
      "metadata": {
        "id": "K6AEpU_rshEa"
      }
    },
    {
      "cell_type": "code",
      "source": [
        "random_forest_classifier = RandomForestClassifier(random_state=0, n_estimators=10, max_depth=15)\n",
        "random_forest_classifier.fit(xtrain, ytrain)\n",
        "random_forest_classifier.score(xtrain, ytrain)"
      ],
      "metadata": {
        "colab": {
          "base_uri": "https://localhost:8080/"
        },
        "id": "FOfJMDvUtg53",
        "outputId": "95379910-6935-47a8-b031-8d108498df7a"
      },
      "execution_count": null,
      "outputs": [
        {
          "output_type": "stream",
          "name": "stderr",
          "text": [
            "/usr/local/lib/python3.7/dist-packages/ipykernel_launcher.py:2: DataConversionWarning: A column-vector y was passed when a 1d array was expected. Please change the shape of y to (n_samples,), for example using ravel().\n",
            "  \n"
          ]
        },
        {
          "output_type": "execute_result",
          "data": {
            "text/plain": [
              "0.9814285714285714"
            ]
          },
          "metadata": {},
          "execution_count": 25
        }
      ]
    },
    {
      "cell_type": "code",
      "source": [
        "predict3 = random_forest_classifier.predict(xtest)\n",
        "print(predict3)\n",
        "print(ytest.reshape((1,-1)))\n",
        "print(\"El accuracy presente en el modelo es\",accuracy_score(ytest,predict3))\n",
        "print(\"El error presente en el modelo es\",mean_squared_error(ytest,predict3))\n",
        "print(\"La precisión presente en el modelo es\",precision_score(ytest,predict3))"
      ],
      "metadata": {
        "colab": {
          "base_uri": "https://localhost:8080/"
        },
        "id": "i6SfkZA_vL6O",
        "outputId": "55d276fc-6eab-4109-b3d5-0f4a18917589"
      },
      "execution_count": null,
      "outputs": [
        {
          "output_type": "stream",
          "name": "stdout",
          "text": [
            "[0 1 1 1 1 1 1 1 1 0 0 0 1 1 1 0 0 1 0 1 1 0 1 1 1 0 1 1 1 1 1 0 1 1 1 0 1\n",
            " 1 0 1 1 0 1 1 1 0 1 0 1 1 1 0 0 1 0 1 0 1 1 1 0 1 1 1 1 1 1 1 1 1 1 1 0 0\n",
            " 0 1 1 1 1 1 1 1 1 1 1 1 0 1 1 1 1 1 1 1 1 1 1 0 1 1 1 1 1 1 1 1 0 1 1 1 1\n",
            " 0 0 1 1 1 0 1 1 1 1 1 1 0 1 1 1 1 1 1 0 0 0 1 1 0 1 1 0 0 0 0 1 1 1 1 1 0\n",
            " 1 1 1 1 1 1 1 1 1 1 1 1 1 0 1 1 1 1 0 1 1 1 0 1 0 1 1 0 0 0 1 1 1 1 1 0 0\n",
            " 0 1 1 1 1 1 0 1 1 1 1 1 1 1 1 0 0 0 0 1 1 1 1 1 1 0 1 1 1 1 1 1 1 1 0 1 1\n",
            " 1 1 1 1 1 0 1 1 1 1 1 1 0 0 1 1 1 1 0 1 1 0 1 0 1 1 1 1 1 1 1 1 1 1 0 1 1\n",
            " 1 0 1 1 1 0 0 1 1 0 1 0 1 1 1 1 1 1 1 1 1 0 1 1 1 0 0 1 1 1 1 1 1 0 1 1 1\n",
            " 0 1 0 0]\n",
            "[[1 1 1 1 1 1 1 1 1 0 0 0 1 1 0 1 1 0 1 1 1 1 1 1 1 0 1 1 1 0 1 1 0 0 1 0\n",
            "  1 1 0 1 0 1 1 1 1 0 0 1 1 1 0 0 1 1 0 1 1 1 1 1 0 1 1 1 1 1 1 0 0 1 1 1\n",
            "  1 1 1 0 1 0 0 1 1 1 1 1 1 1 0 1 1 1 1 1 1 1 1 0 1 1 1 1 1 1 1 1 1 1 1 0\n",
            "  0 1 1 0 0 1 1 1 0 1 1 1 0 1 1 0 1 1 1 1 1 1 0 1 0 1 1 0 1 1 1 1 1 1 1 0\n",
            "  0 0 1 1 0 1 1 1 1 0 1 1 0 1 1 1 0 1 1 0 0 0 0 1 0 1 1 1 1 0 1 0 0 0 1 1\n",
            "  1 1 1 0 1 0 1 1 1 1 0 0 0 1 1 1 0 1 0 1 1 0 0 0 1 1 0 1 1 1 0 1 0 1 1 1\n",
            "  1 1 1 0 0 1 1 1 1 1 1 0 0 1 1 0 0 1 0 1 1 1 1 0 0 1 1 0 1 1 1 1 1 1 1 1\n",
            "  1 1 1 1 1 1 1 1 1 1 1 1 1 0 1 0 1 0 0 0 1 1 1 1 1 1 0 0 1 1 1 1 0 1 1 1\n",
            "  1 1 1 1 1 1 0 1 0 1 0 0]]\n",
            "El accuracy presente en el modelo es 0.73\n",
            "El error presente en el modelo es 0.27\n",
            "La precisión presente en el modelo es 0.7955555555555556\n"
          ]
        }
      ]
    },
    {
      "cell_type": "code",
      "source": [
        "fig, axs = plt.subplots(figsize=(20,6))\n",
        "\n",
        "axs.plot(predict3,'.', label='Prediccion')\n",
        "axs.plot(ytest,'.', label='Validacion')\n",
        "axs.legend(loc='lower right')"
      ],
      "metadata": {
        "colab": {
          "base_uri": "https://localhost:8080/",
          "height": 391
        },
        "id": "zsvztneWD3Th",
        "outputId": "0ebb319d-80db-4516-84f1-c89cb302149b"
      },
      "execution_count": null,
      "outputs": [
        {
          "output_type": "execute_result",
          "data": {
            "text/plain": [
              "<matplotlib.legend.Legend at 0x7ff3e0457fd0>"
            ]
          },
          "metadata": {},
          "execution_count": 31
        },
        {
          "output_type": "display_data",
          "data": {
            "text/plain": [
              "<Figure size 1440x432 with 1 Axes>"
            ],
            "image/png": "[encoded data removed]"
          },
          "metadata": {
            "needs_background": "light"
          }
        }
      ]
    },
    {
      "cell_type": "markdown",
      "source": [
        "####FEATURES IMPORTANCE PARA LOS PARAMETROS DEL DATASET"
      ],
      "metadata": {
        "id": "DoSEQIW4NhrF"
      }
    },
    {
      "cell_type": "code",
      "source": [
        "from sklearn.inspection import permutation_importance"
      ],
      "metadata": {
        "id": "ig50jrv5Ousk"
      },
      "execution_count": null,
      "outputs": []
    },
    {
      "cell_type": "code",
      "source": [
        "importance = random_forest_classifier.feature_importances_\n",
        "print(importance)"
      ],
      "metadata": {
        "colab": {
          "base_uri": "https://localhost:8080/"
        },
        "id": "d_Qf9ZKM1ndk",
        "outputId": "a50cc568-8428-4ae3-8d17-eab71cdec82a"
      },
      "execution_count": null,
      "outputs": [
        {
          "output_type": "stream",
          "name": "stdout",
          "text": [
            "[0.09505473 0.12123237 0.02762394 0.03116782 0.07170371 0.02117525\n",
            " 0.01354157 0.0203164  0.03046555 0.00460853 0.06095055 0.019582\n",
            " 0.02153708 0.00962074 0.01056261 0.01513031 0.00215966 0.02191163\n",
            " 0.01447917 0.00840853 0.00570806 0.00943516 0.00187785 0.00739992\n",
            " 0.00579974 0.001599   0.00452812 0.0065067  0.01249488 0.00450132\n",
            " 0.01484287 0.01320205 0.00884004 0.01748956 0.01321877 0.00759589\n",
            " 0.00943434 0.00602389 0.00371173 0.01118057 0.00530043 0.00497572\n",
            " 0.00720398 0.01133249 0.00723446 0.01357473 0.00865749 0.00911112\n",
            " 0.02023217 0.00467253 0.01580603 0.01472161 0.01167188 0.01475384\n",
            " 0.00239901 0.01137456 0.01060811 0.0098143  0.00776809 0.00293228\n",
            " 0.00179914 0.0085773  0.00723256 0.0010951  0.00052848]\n"
          ]
        }
      ]
    },
    {
      "cell_type": "code",
      "source": [
        "z=list(df.columns.values)\n",
        "print(type(z))\n",
        "\n",
        "#print(strings)\n",
        "d=list(importance)\n",
        "print(d)\n",
        "feature_names = [f\"{z[i]}\" for i in range(x.shape[1])]\n",
        "print(feature_names)"
      ],
      "metadata": {
        "colab": {
          "base_uri": "https://localhost:8080/"
        },
        "id": "4er0L-48_Q42",
        "outputId": "46b18d49-e429-4153-ba09-3f5da8065e44"
      },
      "execution_count": null,
      "outputs": [
        {
          "output_type": "stream",
          "name": "stdout",
          "text": [
            "<class 'list'>\n",
            "[0.09505473253923645, 0.12123236688931842, 0.02762394253967263, 0.031167824754927288, 0.07170371048264851, 0.02117525205201539, 0.013541567066733248, 0.020316403573838848, 0.03046555247467774, 0.004608531094620562, 0.060950552714841975, 0.01958199628746383, 0.02153707599061725, 0.009620740344791585, 0.010562613105479228, 0.015130314907349531, 0.0021596570743810306, 0.02191163432897621, 0.014479166811145005, 0.008408530649083396, 0.005708055582035997, 0.00943515805187938, 0.0018778465276393318, 0.007399919491026407, 0.0057997380456090465, 0.0015989982768591202, 0.0045281231430944644, 0.006506698754511575, 0.012494881094165185, 0.004501316773258589, 0.014842869865990399, 0.013202047681878984, 0.008840044269546307, 0.01748955846472143, 0.013218766799408432, 0.007595892606519404, 0.009434343185307344, 0.00602388522374863, 0.0037117308394400486, 0.01118056863191159, 0.0053004310222769194, 0.004975721493263642, 0.007203976466639559, 0.011332489738982652, 0.007234460954249065, 0.013574732111010087, 0.008657492264774042, 0.009111124798049963, 0.020232171510324002, 0.004672529905093336, 0.015806029179656057, 0.014721609053853552, 0.01167187860876924, 0.014753838324296479, 0.00239900602676188, 0.01137456165327062, 0.010608106958379458, 0.009814302140131927, 0.007768085037966527, 0.002932276361968198, 0.0017991360370171552, 0.008577299381460582, 0.007232556111905585, 0.0010950967150963162, 0.0005284791544333528]\n",
            "['duration', 'amount', 'disposable_income', 'current_residence_years', 'age', 'existing_credits', 'people_liable', '(\"\\'0<=X<200\\'\",)', '(\"\\'<0\\'\",)', '(\"\\'>=200\\'\",)', '(\"\\'no checking\\'\",)', '(\"\\'all paid\\'\",)', '(\"\\'critical/other existing credit\\'\",)', '(\"\\'delayed previously\\'\",)', '(\"\\'existing paid\\'\",)', '(\"\\'no credits/all paid\\'\",)', '(\"\\'domestic appliance\\'\",)', '(\"\\'new car\\'\",)', '(\"\\'used car\\'\",)', \"('business',)\", \"('education',)\", \"('furniture/equipment',)\", \"('other',)\", \"('radio/tv',)\", \"('repairs',)\", \"('retraining',)\", '(\"\\'100<=X<500\\'\",)', '(\"\\'500<=X<1000\\'\",)', '(\"\\'<100\\'\",)', '(\"\\'>=1000\\'\",)', '(\"\\'no known savings\\'\",)', '(\"\\'1<=X<4\\'\",)', '(\"\\'4<=X<7\\'\",)', '(\"\\'<1\\'\",)', '(\"\\'>=7\\'\",)', \"('unemployed',)\", '(\"\\'female div/dep/mar\\'\",)', '(\"\\'male div/sep\\'\",)', '(\"\\'male mar/wid\\'\",)', '(\"\\'male single\\'\",)', '(\"\\'co applicant\\'\",)', \"('guarantor',)\", \"('none',)\", '(\"\\'life insurance\\'\",)', '(\"\\'no known property\\'\",)', '(\"\\'real estate\\'\",)', \"('car',)\", \"('bank',)\", \"('none',)\", \"('stores',)\", '(\"\\'for free\\'\",)', \"('own',)\", \"('rent',)\", '(\"\\'high qualif/self emp/mgmt\\'\",)', '(\"\\'unemp/unskilled non res\\'\",)', '(\"\\'unskilled resident\\'\",)', \"('skilled',)\", \"('none',)\", \"('yes',)\", \"('no',)\", \"('yes',)\", \"('none',)\", \"('yes',)\", \"('no',)\", \"('yes',)\"]\n"
          ]
        }
      ]
    },
    {
      "cell_type": "code",
      "source": [
        "fig, ax = plt.subplots(figsize =(20, 15))\n",
        "ax.barh(feature_names, d)\n",
        "#plt.show()"
      ],
      "metadata": {
        "colab": {
          "base_uri": "https://localhost:8080/",
          "height": 880
        },
        "id": "u_ak2DUq_9dF",
        "outputId": "9a805014-66ab-4d9f-b1c0-7eca01439b37"
      },
      "execution_count": null,
      "outputs": [
        {
          "output_type": "execute_result",
          "data": {
            "text/plain": [
              "<BarContainer object of 65 artists>"
            ]
          },
          "metadata": {},
          "execution_count": 35
        },
        {
          "output_type": "display_data",
          "data": {
            "text/plain": [
              "<Figure size 1440x1080 with 1 Axes>"
            ],
            "image/png": "[encoded data removed]"
          },
          "metadata": {
            "needs_background": "light"
          }
        }
      ]
    },
    {
      "cell_type": "markdown",
      "source": [
        "####Matriz de confusión"
      ],
      "metadata": {
        "id": "3jFw-PJaDvU9"
      }
    },
    {
      "cell_type": "code",
      "source": [
        "c=confusion_matrix(ytest, predict3)\n",
        "group_names = ['True Neg','False Pos', 'False Neg', 'True Pos']\n",
        "group_counts = [\"{0:0.0f}\".format(value) for value in\n",
        "                c.flatten()]\n",
        "group_percentages = [\"{0:.2%}\".format(value) for value in\n",
        "                     c.flatten()/np.sum(a)]\n",
        "labels = [f\"{v1}\\n{v2}\\n{v3}\" for v1, v2, v3 in\n",
        "          zip(group_names,group_counts,group_percentages)]\n",
        "labels = np.asarray(labels).reshape(2,2)\n",
        "\n",
        "sns.heatmap(c, annot=labels, fmt='', cmap='Blues')"
      ],
      "metadata": {
        "colab": {
          "base_uri": "https://localhost:8080/",
          "height": 282
        },
        "id": "cuBLYbmSKSZH",
        "outputId": "362c29dd-fda0-41b0-be94-34dcdae26a3f"
      },
      "execution_count": null,
      "outputs": [
        {
          "output_type": "execute_result",
          "data": {
            "text/plain": [
              "<matplotlib.axes._subplots.AxesSubplot at 0x7ff3e163c450>"
            ]
          },
          "metadata": {},
          "execution_count": 36
        },
        {
          "output_type": "display_data",
          "data": {
            "text/plain": [
              "<Figure size 432x288 with 2 Axes>"
            ],
            "image/png": "[encoded data removed]"
          },
          "metadata": {
            "needs_background": "light"
          }
        }
      ]
    },
    {
      "cell_type": "code",
      "source": [
        "print(classification_report(ytest, predict3))"
      ],
      "metadata": {
        "colab": {
          "base_uri": "https://localhost:8080/"
        },
        "id": "yv7crFKRuyNS",
        "outputId": "6ecef52e-82d6-4369-fb39-1a032d33ddb7"
      },
      "execution_count": null,
      "outputs": [
        {
          "output_type": "stream",
          "name": "stdout",
          "text": [
            "              precision    recall  f1-score   support\n",
            "\n",
            "           0       0.53      0.47      0.50        86\n",
            "           1       0.80      0.84      0.82       214\n",
            "\n",
            "    accuracy                           0.73       300\n",
            "   macro avg       0.66      0.65      0.66       300\n",
            "weighted avg       0.72      0.73      0.72       300\n",
            "\n"
          ]
        }
      ]
    },
    {
      "cell_type": "markdown",
      "source": [
        "##Conclusiones"
      ],
      "metadata": {
        "id": "Stq7mZGdslG0"
      }
    },
    {
      "cell_type": "markdown",
      "source": [
        "Usamos la curva de ROC para ilustrar las relaciones de los 3 metodos de entrenamiento, en conjunto con la tasa acierto de los modelos."
      ],
      "metadata": {
        "id": "5oDGzr0VsqdW"
      }
    },
    {
      "cell_type": "code",
      "source": [
        "from sklearn.metrics import roc_curve\n",
        "from sklearn.metrics import roc_auc_score\n",
        "from matplotlib import pyplot"
      ],
      "metadata": {
        "id": "sZtoowdmH3dv"
      },
      "execution_count": null,
      "outputs": []
    },
    {
      "cell_type": "code",
      "source": [
        "ns_probs = [0 for _ in range(len(ytest))]\n",
        "lr_probs1 = classifier.predict_proba(xtest)\n",
        "lr_probs2 = tree.predict_proba(xtest)\n",
        "lr_probs3 = random_forest_classifier.predict_proba(xtest)\n",
        "#Nos quedamos con las probabilidades de la clase positiva (la probabilidad de 1)\n",
        "lr_probs1 = lr_probs1[:, 1]\n",
        "lr_probs2 = lr_probs2[:, 1]\n",
        "lr_probs3 = lr_probs3[:, 1]\n",
        "# Calculamos el AUC\n",
        "ns_auc = roc_auc_score(ytest, ns_probs)\n",
        "lr_auc = roc_auc_score(ytest, lr_probs1)\n",
        "# Imprimimos en pantalla\n",
        "#print('Sin entrenar: ROC AUC=%.3f' % (ns_auc))\n",
        "#print('Regresión Logística: ROC AUC=%.3f' % (lr_auc))\n",
        "# Calculamos las curvas ROC\n",
        "ns_fpr1, ns_tpr1, _ = roc_curve(ytest, ns_probs)\n",
        "lr_fpr1, lr_tpr1, _ = roc_curve(ytest, lr_probs1)\n",
        "lr_fpr2, lr_tpr2, _ = roc_curve(ytest, lr_probs2)\n",
        "lr_fpr3, lr_tpr3, _ = roc_curve(ytest, lr_probs3)\n",
        "\n",
        "# Area bajo la curva ROC\n",
        "lr_auc1 = roc_auc_score(ytest, lr_probs1)\n",
        "lr_auc2 = roc_auc_score(ytest, lr_probs2)\n",
        "lr_auc3 = roc_auc_score(ytest, lr_probs3)\n",
        "\n",
        "# Pintamos las curvas ROC\n",
        "pyplot.plot(ns_fpr1, ns_tpr1, linestyle='--', label='No training')\n",
        "\n",
        "#'Regresión Logística: ROC AUC=%.3f' % (lr_auc)\n",
        "pyplot.plot(lr_fpr1, lr_tpr1, marker='.', label=\"Logistic Regression\")\n",
        "\n",
        "pyplot.plot(lr_fpr2, lr_tpr2, marker='.', label=\"Decision Tree\")\n",
        "\n",
        "pyplot.plot(lr_fpr3, lr_tpr3, marker='.', label=\"Random Forest\")\n",
        "# Etiquetas de los ejes\n",
        "pyplot.xlabel('False Positive Rate')\n",
        "pyplot.ylabel('True Positive Rate')\n",
        "pyplot.legend()\n",
        "pyplot.show()\n",
        "\n",
        "print(\"\\nROC AUC Logistic Regression: %.3f\" % lr_auc1)\n",
        "print(\"ROC AUC Decision Tree: %.3f\" % lr_auc2)\n",
        "print(\"ROC AUC Random Forest: %.3f\" % lr_auc3)"
      ],
      "metadata": {
        "colab": {
          "base_uri": "https://localhost:8080/",
          "height": 348
        },
        "id": "qm2d-QFmKq81",
        "outputId": "99f17523-2333-4eef-dbaa-1be7a6fcfd80"
      },
      "execution_count": null,
      "outputs": [
        {
          "output_type": "display_data",
          "data": {
            "text/plain": [
              "<Figure size 432x288 with 1 Axes>"
            ],
            "image/png": "[encoded data removed]"
          },
          "metadata": {
            "needs_background": "light"
          }
        },
        {
          "output_type": "stream",
          "name": "stdout",
          "text": [
            "\n",
            "ROC AUC Logistic Regression: 0.754\n",
            "ROC AUC Decision Tree: 0.667\n",
            "ROC AUC Random Forest: 0.724\n"
          ]
        }
      ]
    }
  ]
}